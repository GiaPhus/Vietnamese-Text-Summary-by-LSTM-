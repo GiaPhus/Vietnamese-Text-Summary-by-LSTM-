{
 "cells": [
  {
   "cell_type": "code",
   "execution_count": 1,
   "metadata": {},
   "outputs": [
    {
     "name": "stderr",
     "output_type": "stream",
     "text": [
      "/home/phu/.local/lib/python3.10/site-packages/tqdm/auto.py:21: TqdmWarning: IProgress not found. Please update jupyter and ipywidgets. See https://ipywidgets.readthedocs.io/en/stable/user_install.html\n",
      "  from .autonotebook import tqdm as notebook_tqdm\n",
      "2024-12-02 16:06:46.157436: I tensorflow/core/util/port.cc:153] oneDNN custom operations are on. You may see slightly different numerical results due to floating-point round-off errors from different computation orders. To turn them off, set the environment variable `TF_ENABLE_ONEDNN_OPTS=0`.\n",
      "2024-12-02 16:06:46.202020: E external/local_xla/xla/stream_executor/cuda/cuda_fft.cc:477] Unable to register cuFFT factory: Attempting to register factory for plugin cuFFT when one has already been registered\n",
      "WARNING: All log messages before absl::InitializeLog() is called are written to STDERR\n",
      "E0000 00:00:1733130406.257474   71667 cuda_dnn.cc:8310] Unable to register cuDNN factory: Attempting to register factory for plugin cuDNN when one has already been registered\n",
      "E0000 00:00:1733130406.273229   71667 cuda_blas.cc:1418] Unable to register cuBLAS factory: Attempting to register factory for plugin cuBLAS when one has already been registered\n",
      "2024-12-02 16:06:46.325941: I tensorflow/core/platform/cpu_feature_guard.cc:210] This TensorFlow binary is optimized to use available CPU instructions in performance-critical operations.\n",
      "To enable the following instructions: AVX2 AVX512F AVX512_VNNI FMA, in other operations, rebuild TensorFlow with the appropriate compiler flags.\n",
      "/usr/lib/python3/dist-packages/paramiko/pkey.py:82: CryptographyDeprecationWarning: TripleDES has been moved to cryptography.hazmat.decrepit.ciphers.algorithms.TripleDES and will be removed from this module in 48.0.0.\n",
      "  \"cipher\": algorithms.TripleDES,\n",
      "/usr/lib/python3/dist-packages/paramiko/transport.py:237: CryptographyDeprecationWarning: Blowfish has been moved to cryptography.hazmat.decrepit.ciphers.algorithms.Blowfish and will be removed from this module in 45.0.0.\n",
      "  \"class\": algorithms.Blowfish,\n",
      "/usr/lib/python3/dist-packages/paramiko/transport.py:261: CryptographyDeprecationWarning: TripleDES has been moved to cryptography.hazmat.decrepit.ciphers.algorithms.TripleDES and will be removed from this module in 48.0.0.\n",
      "  \"class\": algorithms.TripleDES,\n"
     ]
    }
   ],
   "source": [
    "import sys\n",
    "import os\n",
    "import importlib\n",
    "import numpy as np\n",
    "import pandas as pd\n",
    "from datasets import load_from_disk\n",
    "import spacy\n",
    "import string\n",
    "import os\n",
    "import re\n",
    "from string import punctuation\n",
    "from nltk.tokenize import word_tokenize\n",
    "import nltk\n",
    "from keras.utils import pad_sequences\n",
    "# import Tokenizer \n",
    "from tensorflow.keras.layers import Input, LSTM, Embedding, Dense, Concatenate, TimeDistributed\n",
    "from tensorflow.keras.models import Model\n",
    "from tensorflow.keras.callbacks import EarlyStopping\n",
    "from bs4 import BeautifulSoup\n",
    "from gensim.models import Word2Vec,KeyedVectors\n",
    "from tensorflow.keras.preprocessing.text import Tokenizer\n",
    "import warnings\n",
    "pd.set_option(\"display.max_colwidth\", 200)\n",
    "warnings.filterwarnings(\"ignore\")"
   ]
  },
  {
   "cell_type": "code",
   "execution_count": 28,
   "metadata": {},
   "outputs": [],
   "source": [
    "df = pd.read_excel(\"/home/phu/TextSummary/NLP/dataset/clean.xlsx\")"
   ]
  },
  {
   "cell_type": "code",
   "execution_count": 39,
   "metadata": {},
   "outputs": [
    {
     "data": {
      "text/html": [
       "<div>\n",
       "<style scoped>\n",
       "    .dataframe tbody tr th:only-of-type {\n",
       "        vertical-align: middle;\n",
       "    }\n",
       "\n",
       "    .dataframe tbody tr th {\n",
       "        vertical-align: top;\n",
       "    }\n",
       "\n",
       "    .dataframe thead th {\n",
       "        text-align: right;\n",
       "    }\n",
       "</style>\n",
       "<table border=\"1\" class=\"dataframe\">\n",
       "  <thead>\n",
       "    <tr style=\"text-align: right;\">\n",
       "      <th></th>\n",
       "      <th>Text</th>\n",
       "      <th>Summary</th>\n",
       "      <th>cleaned_text</th>\n",
       "      <th>cleaned_summary</th>\n",
       "    </tr>\n",
       "  </thead>\n",
       "  <tbody>\n",
       "    <tr>\n",
       "      <th>0</th>\n",
       "      <td>Tổng thư ký Tổ chức Hiệp ước Bắc Đại Tây Dương (NATO) Jens Stoltenberg ngày 19/5 cho biết, nếu Ai Cập đề nghị, liên minh này sẽ hỗ trợ công tác tìm kiếm chiếc máy bay mang số hiệu MS 804 của hãng ...</td>\n",
       "      <td>Chiếc Airbus A320 (chuyến bay số hiệu MS804) bay từ thủ đô Paris đến thủ đô Cairo thì biến mất khỏi màn hình radar vào sáng sớm ngày 19.5.Các chuyên gia hàng không lo ngại một hành động cố ý đã kh...</td>\n",
       "      <td>tổng thư ký tổ chức hiệp ước bắc đại tây dương jens stoltenberg 19/5 biết, cập đề nghị, liên minh hỗ trợ công tác kiếm máy bay hiệu ms 804 hãng hàng cập chở 66 tích ngày.“tôi gửi chia buồn sâu sắc...</td>\n",
       "      <td>airbus a320 bay thủ đô paris thủ đô cairo biến màn hình radar 19.5.các chuyên gia hàng lo ngại hành động cố máy bay biến màn hình radar.bộ trưởng hàng cập sherif fathy nghiêng khả năng ms804 khủng...</td>\n",
       "    </tr>\n",
       "    <tr>\n",
       "      <th>1</th>\n",
       "      <td>Trả lời phỏng vấn, bà Hillary tuyên bố: “Tôi sẽ là ứng viên Tổng thống đại diện cho đảng tôi. Điều đó đã ngã ngũ rồi, không có gì thay đổi được”.Khẳng định của bà Hillary được đưa ra khi bà nắm ưu...</td>\n",
       "      <td>Cựu ngoại trưởng Mỹ Clinton nói rằng Donald Trump là mối đe dọa đến đất nước, nền dân chủ và nền kinh tế nước này.Bà cho rằng ứng viên tổng thống đảng Cộng hòa là người “vô trách nhiệm, bất cẩn và...</td>\n",
       "      <td>vấn, hillary tuyên bố: “tôi ứng viên tổng thống đại diện đảng tôi. ngã ngũ rồi, thay đổi được”.khẳng định hillary nắm ưu trội phiếu ủng hộ đối đối thủ bernie sanders, thượng nghị sỹ vermont. theo ...</td>\n",
       "      <td>cựu ngoại trưởng mỹ clinton donald trump đe dọa đất nước, dân chủ kinh tế này.bà ứng viên tổng thống đảng cộng hòa “vô trách nhiệm, bất cẩn phát ngôn nguy hiểm”.bà kết luận tiêu chuẩn trở thành tổ...</td>\n",
       "    </tr>\n",
       "    <tr>\n",
       "      <th>2</th>\n",
       "      <td>Lễ tuyên thệ của bà Thái diễn ra trước một lá cờ Đài Loan và chân dung người sáng lập hòn đảo Tôn Dật Tiên.Cơ quan Ngoại giao Đài Loan cho biết gần 700 nguyên thủ quốc gia, các nhà ngoại giao và q...</td>\n",
       "      <td>Bà Thái Anh Văn, Chủ tịch đảng Dân Tiến, đã giành chiến thắng trong cuộc bầu cử người đứng đầu chính quyền Đài Loan.Thách thức lớn nhất đối với bà sẽ là việc giải quyết mối quan hệ nguội lạnh với ...</td>\n",
       "      <td>lễ tuyên thệ thái diễn lá cờ đài loan chân dung lập hòn đảo tôn dật tiên.cơ quan ngoại giao đài loan 700 nguyên thủ quốc gia, ngoại giao quan chức tham dự kiện.trong vai trò mới, thái đương đầu th...</td>\n",
       "      <td>thái văn, chủ tịch đảng dân tiến, giành chiến thắng bầu cử đứng đầu chính quyền đài loan.thách thức đối giải quyết quan hệ nguội lạnh trung quốc vực dậy kinh tế đài loan suy thoái.bà thái bảo vệ n...</td>\n",
       "    </tr>\n",
       "    <tr>\n",
       "      <th>3</th>\n",
       "      <td>Những quan điểm nêu trên được các chuyên gia chia sẻ tại hội thảo “TP HCM - Khát vọng vươn lên” do báo Tuổi trẻ tổ chức ngày 19/5.Theo PGS. TS Trần Đình Thiên - Viện trưởng Viện kinh tế Việt Nam, ...</td>\n",
       "      <td>Ngày 19-5, tại hội thảo “TP.HCM - Khát vọng vươn lên”, nhiều chuyên gia đã chỉ ra những nguyên nhân cản trở sự vươn lên của TP.HCM, đồng thời đưa ra nhiều giải pháp để TP bứt phá, vươn lên, trở th...</td>\n",
       "      <td>quan nêu chuyên gia chia sẻ hội thảo “tp hcm khát vọng vươn lên” báo trẻ tổ chức 19/5.theo pgs. ts trần đình thiên viện trưởng viện kinh tế việt nam, tp hcm đầu tàu chạ</td>\n",
       "      <td>19-5, hội thảo “tp.hcm khát vọng vươn lên”, chuyên gia nguyên nhân cản trở vươn tp.hcm, đồng thời giải pháp tp bứt phá, vươn lên, trở thành tp chất sống tốt, văn minh, hiện đại, nghĩa tình.theo ch...</td>\n",
       "    </tr>\n",
       "    <tr>\n",
       "      <th>4</th>\n",
       "      <td>Ông Phạm Việt Thắng - Chủ tịch Hội Nghề cá Việt Nam vừa có công văn gửi Văn phòng Chính phủ, Bộ TN&amp;MT, Bộ NN&amp;PTNT, Bộ KH&amp;CN, Bộ Tài chính sáng nay (27-5).Nội dung công văn đề nghị các cơ quan chức...</td>\n",
       "      <td>Hội nghề cá Việt Nam đề nghị Chính phủ và bộ ngành đẩy nhanh tiến độ xác định nguyên nhân cá chết hàng loạt ở các tỉnh Bắc miền Trung.Thời gian công bố nguyên nhân cá chết càng kéo dài thì chất độ...</td>\n",
       "      <td>phạm việt thắng chủ tịch hội nghề cá việt nam công văn gửi văn phòng chính phủ, tn&amp;mt, nn&amp;ptnt, kh&amp;cn, tài chính .nội dung công văn đề nghị quan chức năng đẩy tiến độ xác định nguyên nhân cá chết ...</td>\n",
       "      <td>hội nghề cá việt nam đề nghị chính phủ ngành đẩy tiến độ xác định nguyên nhân cá chết hàng loạt tỉnh bắc miền trung.thời gian công bố nguyên nhân cá chết kéo chất độc trầm tích đáy biển pha loãng ...</td>\n",
       "    </tr>\n",
       "  </tbody>\n",
       "</table>\n",
       "</div>"
      ],
      "text/plain": [
       "                                                                                                                                                                                                      Text  \\\n",
       "0  Tổng thư ký Tổ chức Hiệp ước Bắc Đại Tây Dương (NATO) Jens Stoltenberg ngày 19/5 cho biết, nếu Ai Cập đề nghị, liên minh này sẽ hỗ trợ công tác tìm kiếm chiếc máy bay mang số hiệu MS 804 của hãng ...   \n",
       "1  Trả lời phỏng vấn, bà Hillary tuyên bố: “Tôi sẽ là ứng viên Tổng thống đại diện cho đảng tôi. Điều đó đã ngã ngũ rồi, không có gì thay đổi được”.Khẳng định của bà Hillary được đưa ra khi bà nắm ưu...   \n",
       "2  Lễ tuyên thệ của bà Thái diễn ra trước một lá cờ Đài Loan và chân dung người sáng lập hòn đảo Tôn Dật Tiên.Cơ quan Ngoại giao Đài Loan cho biết gần 700 nguyên thủ quốc gia, các nhà ngoại giao và q...   \n",
       "3  Những quan điểm nêu trên được các chuyên gia chia sẻ tại hội thảo “TP HCM - Khát vọng vươn lên” do báo Tuổi trẻ tổ chức ngày 19/5.Theo PGS. TS Trần Đình Thiên - Viện trưởng Viện kinh tế Việt Nam, ...   \n",
       "4  Ông Phạm Việt Thắng - Chủ tịch Hội Nghề cá Việt Nam vừa có công văn gửi Văn phòng Chính phủ, Bộ TN&MT, Bộ NN&PTNT, Bộ KH&CN, Bộ Tài chính sáng nay (27-5).Nội dung công văn đề nghị các cơ quan chức...   \n",
       "\n",
       "                                                                                                                                                                                                   Summary  \\\n",
       "0  Chiếc Airbus A320 (chuyến bay số hiệu MS804) bay từ thủ đô Paris đến thủ đô Cairo thì biến mất khỏi màn hình radar vào sáng sớm ngày 19.5.Các chuyên gia hàng không lo ngại một hành động cố ý đã kh...   \n",
       "1  Cựu ngoại trưởng Mỹ Clinton nói rằng Donald Trump là mối đe dọa đến đất nước, nền dân chủ và nền kinh tế nước này.Bà cho rằng ứng viên tổng thống đảng Cộng hòa là người “vô trách nhiệm, bất cẩn và...   \n",
       "2  Bà Thái Anh Văn, Chủ tịch đảng Dân Tiến, đã giành chiến thắng trong cuộc bầu cử người đứng đầu chính quyền Đài Loan.Thách thức lớn nhất đối với bà sẽ là việc giải quyết mối quan hệ nguội lạnh với ...   \n",
       "3  Ngày 19-5, tại hội thảo “TP.HCM - Khát vọng vươn lên”, nhiều chuyên gia đã chỉ ra những nguyên nhân cản trở sự vươn lên của TP.HCM, đồng thời đưa ra nhiều giải pháp để TP bứt phá, vươn lên, trở th...   \n",
       "4  Hội nghề cá Việt Nam đề nghị Chính phủ và bộ ngành đẩy nhanh tiến độ xác định nguyên nhân cá chết hàng loạt ở các tỉnh Bắc miền Trung.Thời gian công bố nguyên nhân cá chết càng kéo dài thì chất độ...   \n",
       "\n",
       "                                                                                                                                                                                              cleaned_text  \\\n",
       "0  tổng thư ký tổ chức hiệp ước bắc đại tây dương jens stoltenberg 19/5 biết, cập đề nghị, liên minh hỗ trợ công tác kiếm máy bay hiệu ms 804 hãng hàng cập chở 66 tích ngày.“tôi gửi chia buồn sâu sắc...   \n",
       "1  vấn, hillary tuyên bố: “tôi ứng viên tổng thống đại diện đảng tôi. ngã ngũ rồi, thay đổi được”.khẳng định hillary nắm ưu trội phiếu ủng hộ đối đối thủ bernie sanders, thượng nghị sỹ vermont. theo ...   \n",
       "2  lễ tuyên thệ thái diễn lá cờ đài loan chân dung lập hòn đảo tôn dật tiên.cơ quan ngoại giao đài loan 700 nguyên thủ quốc gia, ngoại giao quan chức tham dự kiện.trong vai trò mới, thái đương đầu th...   \n",
       "3                                 quan nêu chuyên gia chia sẻ hội thảo “tp hcm khát vọng vươn lên” báo trẻ tổ chức 19/5.theo pgs. ts trần đình thiên viện trưởng viện kinh tế việt nam, tp hcm đầu tàu chạ   \n",
       "4  phạm việt thắng chủ tịch hội nghề cá việt nam công văn gửi văn phòng chính phủ, tn&mt, nn&ptnt, kh&cn, tài chính .nội dung công văn đề nghị quan chức năng đẩy tiến độ xác định nguyên nhân cá chết ...   \n",
       "\n",
       "                                                                                                                                                                                           cleaned_summary  \n",
       "0  airbus a320 bay thủ đô paris thủ đô cairo biến màn hình radar 19.5.các chuyên gia hàng lo ngại hành động cố máy bay biến màn hình radar.bộ trưởng hàng cập sherif fathy nghiêng khả năng ms804 khủng...  \n",
       "1  cựu ngoại trưởng mỹ clinton donald trump đe dọa đất nước, dân chủ kinh tế này.bà ứng viên tổng thống đảng cộng hòa “vô trách nhiệm, bất cẩn phát ngôn nguy hiểm”.bà kết luận tiêu chuẩn trở thành tổ...  \n",
       "2  thái văn, chủ tịch đảng dân tiến, giành chiến thắng bầu cử đứng đầu chính quyền đài loan.thách thức đối giải quyết quan hệ nguội lạnh trung quốc vực dậy kinh tế đài loan suy thoái.bà thái bảo vệ n...  \n",
       "3  19-5, hội thảo “tp.hcm khát vọng vươn lên”, chuyên gia nguyên nhân cản trở vươn tp.hcm, đồng thời giải pháp tp bứt phá, vươn lên, trở thành tp chất sống tốt, văn minh, hiện đại, nghĩa tình.theo ch...  \n",
       "4  hội nghề cá việt nam đề nghị chính phủ ngành đẩy tiến độ xác định nguyên nhân cá chết hàng loạt tỉnh bắc miền trung.thời gian công bố nguyên nhân cá chết kéo chất độc trầm tích đáy biển pha loãng ...  "
      ]
     },
     "execution_count": 39,
     "metadata": {},
     "output_type": "execute_result"
    }
   ],
   "source": [
    "df.head()"
   ]
  },
  {
   "cell_type": "code",
   "execution_count": 40,
   "metadata": {},
   "outputs": [],
   "source": [
    "def get_stopwords(file_stop_words):\n",
    "    with open (file_stop_words,encoding = 'utf-8') as  f :\n",
    "        stop_words = f.read()\n",
    "    stop_words = stop_words.split(\"\\n\")\n",
    "    return stop_words\n",
    "\n",
    "def text_cleaner(text,num):\n",
    "    # lower\n",
    "    newString = text.lower()\n",
    "    # remove HTML\n",
    "    newString = BeautifulSoup(newString, \"lxml\").text\n",
    "    # Remove any text inside the parenthesis\n",
    "    newString = re.sub(r'\\([^)]*\\)', '', newString)\n",
    "    # remove double quotes\n",
    "    newString = re.sub('\"','', newString)\n",
    "    # remove 's\n",
    "    newString = re.sub(r\"'s\\b\",\"\",newString)\n",
    "    # Remove stopwords\n",
    "    if(num==0):\n",
    "        tokens = [w for w in newString.split() if not w in get_stopwords(\"/home/phu/TextSummary/stopwords.txt\")]\n",
    "    else:\n",
    "        tokens=newString.split()\n",
    "    long_words=[]\n",
    "    # Remove short words\n",
    "    for i in tokens:\n",
    "        if len(i)>1:                                                 \n",
    "            long_words.append(i)   \n",
    "    return (\" \".join(long_words)).strip()"
   ]
  },
  {
   "cell_type": "code",
   "execution_count": 41,
   "metadata": {},
   "outputs": [],
   "source": [
    "clean_text = []\n",
    "for t in df['Text']:\n",
    "    clean_text.append(text_cleaner(t,0))\n",
    "    \n"
   ]
  },
  {
   "cell_type": "code",
   "execution_count": 42,
   "metadata": {},
   "outputs": [
    {
     "data": {
      "text/plain": [
       "['tổng thư ký tổ chức hiệp ước bắc đại tây dương jens stoltenberg 19/5 biết, cập đề nghị, liên minh hỗ trợ công tác kiếm máy bay hiệu ms 804 hãng hàng cập chở 66 tích ngày.“tôi gửi chia buồn sâu sắc ảnh hưởng vụ này. gửi chia buồn sâu sắc pháp cập. nỗ lực kiếm cứu nạn độ quốc gia. pháp cập phối hợp công tác tra. tiếp tục theo dõi chặt chẽ diễn biến đề nghị, nato sẵn sàng giúp đỡ”, jens stoltenberg nói.thủ tướng italy matteo renzi 19/5 gửi chia buồn, đồng thời bày tỏ đoàn kết cập vụ máy bay hãng hàng cập tích địa trung hải đường bay paris cairo.trước đó, hãng hàng quốc gia cập xác hy lạp mảnh vỡ máy bay nam đảo karpathos, nam địa trung hải. hãng gửi chia buồn gia đình hành chuyến bay tích xác đầu tiên thân nhân đời. hãng cam kết triển khai biện pháp giải quyết tình hình hiện tiến hành tra tổng thể.người đứng đầu quan tra tai nạn hàng cập ayman al-moqadem 19/5 biết, đầu ủy ban tra vụ tích máy bay hiệu ms 804.ủy ban bao nhân pháp, sản xuất airbus 320 nạn nhân hai cập. quan chức năng pháp khẳng định cử chuyên gia cập tham gia tra vụ tai nạn máy bay này. hy lạp đề nghị giúp đỡ kiếm hộp đen mảnh vỡ máy bay.hội đồng an toàn giao thông quốc gia mỹ biết, động máy bay nạn sản xuất này. theo quy tắc quốc tế, động máy bay chế thể tham gia tra tai nạn xảy ra. hiện mỹ cử máy bay p-3 orion hỗ trợ công tác kiếm máy bay tích cập.lúc này, ứng viên tổng thống đảng cộng hòa mỹ donald trump tiếng bày tỏ nghi ngờ vụ công khủng bố song chính phủ mỹ rằng, vụ tai nạn máy bay tra xác định nguyên nhân máy bay nạn.thủ tướng cập sherif ismail định đề bất giả thuyết nào, trường hợp máy bay khủng bố. trưởng hàng dân dụng cập sherif phathi rằng, khả năng máy bay khủng bố khả năng xảy lỗi kỹ thuật chứng cụ thể nào.tổng thống cập mohamed morsi yêu cầu hàng dân dụng quân đội phối hợp chóng định vị máy bay hiệu ms 804 rơi tiến hành tra thấu đáo.trong đó, ngoại trưởng canada stephane dion 19/5 hành đi chuyến bay hiệu ms 804 hãng hàng quốc gia cập tích công dân này. ngoại giao canada phối hợp đối tác pháp cập, liên quan đánh giá tình hình xét yêu cầu hỗ trợ.trước đó, hãng hàng quốc gia cập công bố quốc tịch hành đi chuyến bay ms 804 tích, bao 56 hành khách, 30 cập, 15 pháp, i-rắc, anh, bỉ, kuwait, saudi arabia, sudan, cộng hòa chad, bồ đào nha, angeria canada. ra, 10 thành viên phi hành đoàn./.',\n",
       " 'vấn, hillary tuyên bố: “tôi ứng viên tổng thống đại diện đảng tôi. ngã ngũ rồi, thay đổi được”.khẳng định hillary nắm ưu trội phiếu ủng hộ đối đối thủ bernie sanders, thượng nghị sỹ vermont. theo abc news, hillary hiện 2.293 phiếu đại biểu, 1.528 phiếu sanders. trở thành ứng viên đại diện đảng dân chủ tranh chức tổng thống, clinton 2.383 phiếu thiết.dù vậy, sanders tuyên bố quyết tâm theo đuổi cuộc.khi ứng viên tổng thống đảng cộng hoà, tỷ phú donald trump, trump “phát ngôn nguy hiểm”.bà nhắc hàng loạt phát ngôn sốc trump khẩu chiến chính trị gia anh, sẵn sàng lãnh đạo triều tiên kim jong un, kêu gọi mỹ rút nato quốc gia sở hữu vũ khí hạt nhân.đặc biệt, thẳng thắn phản trump ủng hộ chủ trương cấm hồi giáo nhập cảnh mỹ, gửi đi thông điệp tôn trọng đối quốc gia đa dân theo đạo hồi.',\n",
       " 'lễ tuyên thệ thái diễn lá cờ đài loan chân dung lập hòn đảo tôn dật tiên.cơ quan ngoại giao đài loan 700 nguyên thủ quốc gia, ngoại giao quan chức tham dự kiện.trong vai trò mới, thái đương đầu thách thức to lớn, bao giải quyết quan hệ nguội lạnh trung quốc vực dậy kinh tế vốn suy thoái xuất khẩu mạnh.trung quốc tuyên bố đài loan lãnh thổ mình, đồng thời đe dọa sẵn sàng chiếm vũ lực thiết. bắc kinh phản ứng bầu cử đài loan nay. đó, đảng dân chủ tiến thái đầu giành chiến thắng vang dội.đáng dpp xu hướng ủng hộ đài loan độc lập trung quốc phật ý. bầu cử, bắ']"
      ]
     },
     "execution_count": 42,
     "metadata": {},
     "output_type": "execute_result"
    }
   ],
   "source": [
    "clean_text[:3]"
   ]
  },
  {
   "cell_type": "code",
   "execution_count": 43,
   "metadata": {},
   "outputs": [],
   "source": [
    "cleaned_summary = []\n",
    "for t in df['Summary']:\n",
    "    if isinstance(t, str):  # Kiểm tra nếu t là chuỗi\n",
    "        cleaned_summary.append(text_cleaner(t,0))\n",
    "    else:\n",
    "        cleaned_summary.append(text_cleaner(str(t),0))  # Chuyển đổi sang chuỗi\n"
   ]
  },
  {
   "cell_type": "code",
   "execution_count": 44,
   "metadata": {},
   "outputs": [
    {
     "data": {
      "text/plain": [
       "['airbus a320 bay thủ đô paris thủ đô cairo biến màn hình radar 19.5.các chuyên gia hàng lo ngại hành động cố máy bay biến màn hình radar.bộ trưởng hàng cập sherif fathy nghiêng khả năng ms804 khủng bố trục trặc kỹ thuật.họ nghi ngờ bom máy bay nổ tung, rơi biển.tổng thư ký tổ chức hiệp ước bắc đại tây dương jens stoltenberg hỗ trợ công tác kiếm máy bay ms 804.một tra quy mô tiến hành a320 biến mất.theo tin, hải mảnh nhựa vỡ màu trắng đỏ.những mảnh vỡ phát hiện khu vực hệ thống định vị khẩn máy bay phát tín hiệu đó.66 chết chuyến bay ms804 biến mất.ezeddin samar nữ tiếp viên mặt chuyến bay ms804.ngay cố, phát hiện đăng ảnh cạnh máy bay chìm.',\n",
       " 'cựu ngoại trưởng mỹ clinton donald trump đe dọa đất nước, dân chủ kinh tế này.bà ứng viên tổng thống đảng cộng hòa “vô trách nhiệm, bất cẩn phát ngôn nguy hiểm”.bà kết luận tiêu chuẩn trở thành tổng thống mỹ.bà hillary clinton khẳng định trở thành ứng viên đại diện đảng dân chủ.khẳng định hillary nắm ưu trội phiếu ủng hộ đối đối thủ.tuy nhiên chiến clinton sanders diễn quyết liệt.',\n",
       " 'thái văn, chủ tịch đảng dân tiến, giành chiến thắng bầu cử đứng đầu chính quyền đài loan.thách thức đối giải quyết quan hệ nguội lạnh trung quốc vực dậy kinh tế đài loan suy thoái.bà thái bảo vệ nguyên trạng trung quốc, bắc kinh tôn trọng dân chủ đài loan.trước đó, trung quốc tuyên bố đài loan lãnh thổ mình, đồng thời đe dọa sẵn sàng chiếm vũ lực thiết.sau bầu cử, bắc kinh cường áp lực hòn đảo tổ chức tập trận quân sự, sức ép ngoại giao.']"
      ]
     },
     "execution_count": 44,
     "metadata": {},
     "output_type": "execute_result"
    }
   ],
   "source": [
    "cleaned_summary[:3]"
   ]
  },
  {
   "cell_type": "code",
   "execution_count": 45,
   "metadata": {},
   "outputs": [],
   "source": [
    "df['cleaned_text']=clean_text\n",
    "df['cleaned_summary']=cleaned_summary"
   ]
  },
  {
   "cell_type": "code",
   "execution_count": 46,
   "metadata": {},
   "outputs": [],
   "source": [
    "df.to_excel(\"/home/phu/TextSummary/NLP/cleaned_data.xlsx\", index=False)"
   ]
  },
  {
   "cell_type": "code",
   "execution_count": 47,
   "metadata": {},
   "outputs": [],
   "source": [
    "df.replace('', np.nan, inplace=True)\n",
    "df.dropna(axis=0,inplace=True)"
   ]
  },
  {
   "cell_type": "code",
   "execution_count": 48,
   "metadata": {},
   "outputs": [
    {
     "data": {
      "image/png": "[encoded data removed]",
      "text/plain": [
       "<Figure size 640x480 with 2 Axes>"
      ]
     },
     "metadata": {},
     "output_type": "display_data"
    }
   ],
   "source": [
    "import matplotlib.pyplot as plt\n",
    "\n",
    "text_word_count = []\n",
    "summary_word_count = []\n",
    "\n",
    "for i in df['cleaned_text']:\n",
    "      text_word_count.append(len(i.split()))\n",
    "\n",
    "for i in df['cleaned_summary']:\n",
    "      summary_word_count.append(len(i.split()))\n",
    "\n",
    "length_df = pd.DataFrame({'text':text_word_count, 'summary':summary_word_count})\n",
    "\n",
    "length_df.hist(bins = 40)\n",
    "plt.show()"
   ]
  },
  {
   "cell_type": "code",
   "execution_count": 49,
   "metadata": {},
   "outputs": [
    {
     "name": "stdout",
     "output_type": "stream",
     "text": [
      "0.8966666666666666\n"
     ]
    }
   ],
   "source": [
    "cnt=0\n",
    "for i in df['cleaned_summary']:\n",
    "    if(len(i.split()) <= 200):\n",
    "        cnt=cnt+1\n",
    "print(cnt/len(df['cleaned_summary']))"
   ]
  },
  {
   "cell_type": "code",
   "execution_count": 50,
   "metadata": {},
   "outputs": [
    {
     "name": "stdout",
     "output_type": "stream",
     "text": [
      "0.5433333333333333\n"
     ]
    }
   ],
   "source": [
    "cnt=0\n",
    "for i in df['cleaned_text']:\n",
    "    if(len(i.split()) <= 200):\n",
    "        cnt=cnt+1\n",
    "print(cnt/len(df['cleaned_text']))"
   ]
  },
  {
   "cell_type": "code",
   "execution_count": 79,
   "metadata": {},
   "outputs": [],
   "source": [
    "max_text_len=300\n",
    "max_summary_len= 300\n",
    "\n",
    "cleaned_text =np.array(df['cleaned_text'])\n",
    "cleaned_summary=np.array(df['cleaned_summary'])\n",
    "\n",
    "short_text=[]\n",
    "short_summary=[]\n",
    "\n",
    "for i in range(len(cleaned_text)):\n",
    "    if(len(cleaned_summary[i].split())<=max_summary_len and len(cleaned_text[i].split())<=max_text_len):\n",
    "        short_text.append(cleaned_text[i])\n",
    "        short_summary.append(cleaned_summary[i])\n",
    "        \n",
    "df_clean=pd.DataFrame({'text':short_text,'summary':short_summary})"
   ]
  },
  {
   "cell_type": "code",
   "execution_count": 80,
   "metadata": {},
   "outputs": [
    {
     "data": {
      "text/html": [
       "<div>\n",
       "<style scoped>\n",
       "    .dataframe tbody tr th:only-of-type {\n",
       "        vertical-align: middle;\n",
       "    }\n",
       "\n",
       "    .dataframe tbody tr th {\n",
       "        vertical-align: top;\n",
       "    }\n",
       "\n",
       "    .dataframe thead th {\n",
       "        text-align: right;\n",
       "    }\n",
       "</style>\n",
       "<table border=\"1\" class=\"dataframe\">\n",
       "  <thead>\n",
       "    <tr style=\"text-align: right;\">\n",
       "      <th></th>\n",
       "      <th>text</th>\n",
       "      <th>summary</th>\n",
       "    </tr>\n",
       "  </thead>\n",
       "  <tbody>\n",
       "    <tr>\n",
       "      <th>0</th>\n",
       "      <td>vấn, hillary tuyên bố: “tôi ứng viên tổng thống đại diện đảng tôi. ngã ngũ rồi, thay đổi được”.khẳng định hillary nắm ưu trội phiếu ủng hộ đối đối thủ bernie sanders, thượng nghị sỹ vermont. theo ...</td>\n",
       "      <td>cựu ngoại trưởng mỹ clinton donald trump đe dọa đất nước, dân chủ kinh tế này.bà ứng viên tổng thống đảng cộng hòa “vô trách nhiệm, bất cẩn phát ngôn nguy hiểm”.bà kết luận tiêu chuẩn trở thành tổ...</td>\n",
       "    </tr>\n",
       "    <tr>\n",
       "      <th>1</th>\n",
       "      <td>lễ tuyên thệ thái diễn lá cờ đài loan chân dung lập hòn đảo tôn dật tiên.cơ quan ngoại giao đài loan 700 nguyên thủ quốc gia, ngoại giao quan chức tham dự kiện.trong vai trò mới, thái đương đầu th...</td>\n",
       "      <td>thái văn, chủ tịch đảng dân tiến, giành chiến thắng bầu cử đứng đầu chính quyền đài loan.thách thức đối giải quyết quan hệ nguội lạnh trung quốc vực dậy kinh tế đài loan suy thoái.bà thái bảo vệ n...</td>\n",
       "    </tr>\n",
       "    <tr>\n",
       "      <th>2</th>\n",
       "      <td>quan nêu chuyên gia chia sẻ hội thảo “tp hcm khát vọng vươn lên” báo trẻ tổ chức 19/5.theo pgs. ts trần đình thiên viện trưởng viện kinh tế việt nam, tp hcm đầu tàu chạ</td>\n",
       "      <td>19-5, hội thảo “tp.hcm khát vọng vươn lên”, chuyên gia nguyên nhân cản trở vươn tp.hcm, đồng thời giải pháp tp bứt phá, vươn lên, trở thành tp chất sống tốt, văn minh, hiện đại, nghĩa tình.theo ch...</td>\n",
       "    </tr>\n",
       "    <tr>\n",
       "      <th>3</th>\n",
       "      <td>lan chết tư trói, cửa tập thể xác chồng gục vũng máu. hiện trường dấu hiệu vụ nổ.căn dấu vết hiện trường, hiện giả thuyết chồng sát hại vợ vật liệu nổ vẫn. nhiên, quan công an công bố thông kết lu...</td>\n",
       "      <td>19.5, dân thị trấn sơn phát hiện cặp vợ chồng tử vong bất địa phương.danh nạn nhân xác định đỗ viết t. vũ thị l. quê huyện thiệu hóa, hóa.bước đầu quan công nghi vấn, mâu thuẫn gia đình giết vợ sá...</td>\n",
       "    </tr>\n",
       "    <tr>\n",
       "      <th>4</th>\n",
       "      <td>16h 19/5, phạm đức huy hàn thùng xe tô tải bks: 47c-114.26, may điện giật tử vong.theo thông ban đầu, tiếng, huy trần hữu trung 93 giải phóng, p. tân thành, tp. buôn ma thuột bốc lốp xe cũ tô tải....</td>\n",
       "      <td>quan csđt tp. buôn ma thuột tiến hành tra nguyên nhân chết phạm đức huy .ngày 19/5, huy khiển xe tải gara phường tân thành sửa chữa.phát hiện thùng hư huy kéo điện hàn lại.lúc hai vợ chồng chủ sở ...</td>\n",
       "    </tr>\n",
       "  </tbody>\n",
       "</table>\n",
       "</div>"
      ],
      "text/plain": [
       "                                                                                                                                                                                                      text  \\\n",
       "0  vấn, hillary tuyên bố: “tôi ứng viên tổng thống đại diện đảng tôi. ngã ngũ rồi, thay đổi được”.khẳng định hillary nắm ưu trội phiếu ủng hộ đối đối thủ bernie sanders, thượng nghị sỹ vermont. theo ...   \n",
       "1  lễ tuyên thệ thái diễn lá cờ đài loan chân dung lập hòn đảo tôn dật tiên.cơ quan ngoại giao đài loan 700 nguyên thủ quốc gia, ngoại giao quan chức tham dự kiện.trong vai trò mới, thái đương đầu th...   \n",
       "2                                 quan nêu chuyên gia chia sẻ hội thảo “tp hcm khát vọng vươn lên” báo trẻ tổ chức 19/5.theo pgs. ts trần đình thiên viện trưởng viện kinh tế việt nam, tp hcm đầu tàu chạ   \n",
       "3  lan chết tư trói, cửa tập thể xác chồng gục vũng máu. hiện trường dấu hiệu vụ nổ.căn dấu vết hiện trường, hiện giả thuyết chồng sát hại vợ vật liệu nổ vẫn. nhiên, quan công an công bố thông kết lu...   \n",
       "4  16h 19/5, phạm đức huy hàn thùng xe tô tải bks: 47c-114.26, may điện giật tử vong.theo thông ban đầu, tiếng, huy trần hữu trung 93 giải phóng, p. tân thành, tp. buôn ma thuột bốc lốp xe cũ tô tải....   \n",
       "\n",
       "                                                                                                                                                                                                   summary  \n",
       "0  cựu ngoại trưởng mỹ clinton donald trump đe dọa đất nước, dân chủ kinh tế này.bà ứng viên tổng thống đảng cộng hòa “vô trách nhiệm, bất cẩn phát ngôn nguy hiểm”.bà kết luận tiêu chuẩn trở thành tổ...  \n",
       "1  thái văn, chủ tịch đảng dân tiến, giành chiến thắng bầu cử đứng đầu chính quyền đài loan.thách thức đối giải quyết quan hệ nguội lạnh trung quốc vực dậy kinh tế đài loan suy thoái.bà thái bảo vệ n...  \n",
       "2  19-5, hội thảo “tp.hcm khát vọng vươn lên”, chuyên gia nguyên nhân cản trở vươn tp.hcm, đồng thời giải pháp tp bứt phá, vươn lên, trở thành tp chất sống tốt, văn minh, hiện đại, nghĩa tình.theo ch...  \n",
       "3  19.5, dân thị trấn sơn phát hiện cặp vợ chồng tử vong bất địa phương.danh nạn nhân xác định đỗ viết t. vũ thị l. quê huyện thiệu hóa, hóa.bước đầu quan công nghi vấn, mâu thuẫn gia đình giết vợ sá...  \n",
       "4  quan csđt tp. buôn ma thuột tiến hành tra nguyên nhân chết phạm đức huy .ngày 19/5, huy khiển xe tải gara phường tân thành sửa chữa.phát hiện thùng hư huy kéo điện hàn lại.lúc hai vợ chồng chủ sở ...  "
      ]
     },
     "execution_count": 80,
     "metadata": {},
     "output_type": "execute_result"
    }
   ],
   "source": [
    "df_clean.head()"
   ]
  },
  {
   "cell_type": "code",
   "execution_count": 81,
   "metadata": {},
   "outputs": [
    {
     "data": {
      "text/html": [
       "<div>\n",
       "<style scoped>\n",
       "    .dataframe tbody tr th:only-of-type {\n",
       "        vertical-align: middle;\n",
       "    }\n",
       "\n",
       "    .dataframe tbody tr th {\n",
       "        vertical-align: top;\n",
       "    }\n",
       "\n",
       "    .dataframe thead th {\n",
       "        text-align: right;\n",
       "    }\n",
       "</style>\n",
       "<table border=\"1\" class=\"dataframe\">\n",
       "  <thead>\n",
       "    <tr style=\"text-align: right;\">\n",
       "      <th></th>\n",
       "      <th>text</th>\n",
       "      <th>summary</th>\n",
       "    </tr>\n",
       "  </thead>\n",
       "  <tbody>\n",
       "    <tr>\n",
       "      <th>0</th>\n",
       "      <td>vấn, hillary tuyên bố: “tôi ứng viên tổng thống đại diện đảng tôi. ngã ngũ rồi, thay đổi được”.khẳng định hillary nắm ưu trội phiếu ủng hộ đối đối thủ bernie sanders, thượng nghị sỹ vermont. theo ...</td>\n",
       "      <td>__START__ cựu ngoại trưởng mỹ clinton donald trump đe dọa đất nước, dân chủ kinh tế này.bà ứng viên tổng thống đảng cộng hòa “vô trách nhiệm, bất cẩn phát ngôn nguy hiểm”.bà kết luận tiêu chuẩn tr...</td>\n",
       "    </tr>\n",
       "    <tr>\n",
       "      <th>1</th>\n",
       "      <td>lễ tuyên thệ thái diễn lá cờ đài loan chân dung lập hòn đảo tôn dật tiên.cơ quan ngoại giao đài loan 700 nguyên thủ quốc gia, ngoại giao quan chức tham dự kiện.trong vai trò mới, thái đương đầu th...</td>\n",
       "      <td>__START__ thái văn, chủ tịch đảng dân tiến, giành chiến thắng bầu cử đứng đầu chính quyền đài loan.thách thức đối giải quyết quan hệ nguội lạnh trung quốc vực dậy kinh tế đài loan suy thoái.bà thá...</td>\n",
       "    </tr>\n",
       "    <tr>\n",
       "      <th>2</th>\n",
       "      <td>quan nêu chuyên gia chia sẻ hội thảo “tp hcm khát vọng vươn lên” báo trẻ tổ chức 19/5.theo pgs. ts trần đình thiên viện trưởng viện kinh tế việt nam, tp hcm đầu tàu chạ</td>\n",
       "      <td>__START__ 19-5, hội thảo “tp.hcm khát vọng vươn lên”, chuyên gia nguyên nhân cản trở vươn tp.hcm, đồng thời giải pháp tp bứt phá, vươn lên, trở thành tp chất sống tốt, văn minh, hiện đại, nghĩa tì...</td>\n",
       "    </tr>\n",
       "    <tr>\n",
       "      <th>3</th>\n",
       "      <td>lan chết tư trói, cửa tập thể xác chồng gục vũng máu. hiện trường dấu hiệu vụ nổ.căn dấu vết hiện trường, hiện giả thuyết chồng sát hại vợ vật liệu nổ vẫn. nhiên, quan công an công bố thông kết lu...</td>\n",
       "      <td>__START__ 19.5, dân thị trấn sơn phát hiện cặp vợ chồng tử vong bất địa phương.danh nạn nhân xác định đỗ viết t. vũ thị l. quê huyện thiệu hóa, hóa.bước đầu quan công nghi vấn, mâu thuẫn gia đình ...</td>\n",
       "    </tr>\n",
       "    <tr>\n",
       "      <th>4</th>\n",
       "      <td>16h 19/5, phạm đức huy hàn thùng xe tô tải bks: 47c-114.26, may điện giật tử vong.theo thông ban đầu, tiếng, huy trần hữu trung 93 giải phóng, p. tân thành, tp. buôn ma thuột bốc lốp xe cũ tô tải....</td>\n",
       "      <td>__START__ quan csđt tp. buôn ma thuột tiến hành tra nguyên nhân chết phạm đức huy .ngày 19/5, huy khiển xe tải gara phường tân thành sửa chữa.phát hiện thùng hư huy kéo điện hàn lại.lúc hai vợ chồ...</td>\n",
       "    </tr>\n",
       "  </tbody>\n",
       "</table>\n",
       "</div>"
      ],
      "text/plain": [
       "                                                                                                                                                                                                      text  \\\n",
       "0  vấn, hillary tuyên bố: “tôi ứng viên tổng thống đại diện đảng tôi. ngã ngũ rồi, thay đổi được”.khẳng định hillary nắm ưu trội phiếu ủng hộ đối đối thủ bernie sanders, thượng nghị sỹ vermont. theo ...   \n",
       "1  lễ tuyên thệ thái diễn lá cờ đài loan chân dung lập hòn đảo tôn dật tiên.cơ quan ngoại giao đài loan 700 nguyên thủ quốc gia, ngoại giao quan chức tham dự kiện.trong vai trò mới, thái đương đầu th...   \n",
       "2                                 quan nêu chuyên gia chia sẻ hội thảo “tp hcm khát vọng vươn lên” báo trẻ tổ chức 19/5.theo pgs. ts trần đình thiên viện trưởng viện kinh tế việt nam, tp hcm đầu tàu chạ   \n",
       "3  lan chết tư trói, cửa tập thể xác chồng gục vũng máu. hiện trường dấu hiệu vụ nổ.căn dấu vết hiện trường, hiện giả thuyết chồng sát hại vợ vật liệu nổ vẫn. nhiên, quan công an công bố thông kết lu...   \n",
       "4  16h 19/5, phạm đức huy hàn thùng xe tô tải bks: 47c-114.26, may điện giật tử vong.theo thông ban đầu, tiếng, huy trần hữu trung 93 giải phóng, p. tân thành, tp. buôn ma thuột bốc lốp xe cũ tô tải....   \n",
       "\n",
       "                                                                                                                                                                                                   summary  \n",
       "0  __START__ cựu ngoại trưởng mỹ clinton donald trump đe dọa đất nước, dân chủ kinh tế này.bà ứng viên tổng thống đảng cộng hòa “vô trách nhiệm, bất cẩn phát ngôn nguy hiểm”.bà kết luận tiêu chuẩn tr...  \n",
       "1  __START__ thái văn, chủ tịch đảng dân tiến, giành chiến thắng bầu cử đứng đầu chính quyền đài loan.thách thức đối giải quyết quan hệ nguội lạnh trung quốc vực dậy kinh tế đài loan suy thoái.bà thá...  \n",
       "2  __START__ 19-5, hội thảo “tp.hcm khát vọng vươn lên”, chuyên gia nguyên nhân cản trở vươn tp.hcm, đồng thời giải pháp tp bứt phá, vươn lên, trở thành tp chất sống tốt, văn minh, hiện đại, nghĩa tì...  \n",
       "3  __START__ 19.5, dân thị trấn sơn phát hiện cặp vợ chồng tử vong bất địa phương.danh nạn nhân xác định đỗ viết t. vũ thị l. quê huyện thiệu hóa, hóa.bước đầu quan công nghi vấn, mâu thuẫn gia đình ...  \n",
       "4  __START__ quan csđt tp. buôn ma thuột tiến hành tra nguyên nhân chết phạm đức huy .ngày 19/5, huy khiển xe tải gara phường tân thành sửa chữa.phát hiện thùng hư huy kéo điện hàn lại.lúc hai vợ chồ...  "
      ]
     },
     "execution_count": 81,
     "metadata": {},
     "output_type": "execute_result"
    }
   ],
   "source": [
    "df_clean['summary'] = df_clean['summary'].apply(lambda x : '__START__ '+ x + ' __END__')\n",
    "df_clean.head()"
   ]
  },
  {
   "cell_type": "code",
   "execution_count": 82,
   "metadata": {},
   "outputs": [
    {
     "name": "stdout",
     "output_type": "stream",
     "text": [
      "Review: vấn, hillary tuyên bố: “tôi ứng viên tổng thống đại diện đảng tôi. ngã ngũ rồi, thay đổi được”.khẳng định hillary nắm ưu trội phiếu ủng hộ đối đối thủ bernie sanders, thượng nghị sỹ vermont. theo abc news, hillary hiện 2.293 phiếu đại biểu, 1.528 phiếu sanders. trở thành ứng viên đại diện đảng dân chủ tranh chức tổng thống, clinton 2.383 phiếu thiết.dù vậy, sanders tuyên bố quyết tâm theo đuổi cuộc.khi ứng viên tổng thống đảng cộng hoà, tỷ phú donald trump, trump “phát ngôn nguy hiểm”.bà nhắc hàng loạt phát ngôn sốc trump khẩu chiến chính trị gia anh, sẵn sàng lãnh đạo triều tiên kim jong un, kêu gọi mỹ rút nato quốc gia sở hữu vũ khí hạt nhân.đặc biệt, thẳng thắn phản trump ủng hộ chủ trương cấm hồi giáo nhập cảnh mỹ, gửi đi thông điệp tôn trọng đối quốc gia đa dân theo đạo hồi.\n",
      "Summary: __START__ cựu ngoại trưởng mỹ clinton donald trump đe dọa đất nước, dân chủ kinh tế này.bà ứng viên tổng thống đảng cộng hòa “vô trách nhiệm, bất cẩn phát ngôn nguy hiểm”.bà kết luận tiêu chuẩn trở thành tổng thống mỹ.bà hillary clinton khẳng định trở thành ứng viên đại diện đảng dân chủ.khẳng định hillary nắm ưu trội phiếu ủng hộ đối đối thủ.tuy nhiên chiến clinton sanders diễn quyết liệt. __END__\n",
      "\n",
      "\n",
      "Review: lễ tuyên thệ thái diễn lá cờ đài loan chân dung lập hòn đảo tôn dật tiên.cơ quan ngoại giao đài loan 700 nguyên thủ quốc gia, ngoại giao quan chức tham dự kiện.trong vai trò mới, thái đương đầu thách thức to lớn, bao giải quyết quan hệ nguội lạnh trung quốc vực dậy kinh tế vốn suy thoái xuất khẩu mạnh.trung quốc tuyên bố đài loan lãnh thổ mình, đồng thời đe dọa sẵn sàng chiếm vũ lực thiết. bắc kinh phản ứng bầu cử đài loan nay. đó, đảng dân chủ tiến thái đầu giành chiến thắng vang dội.đáng dpp xu hướng ủng hộ đài loan độc lập trung quốc phật ý. bầu cử, bắ\n",
      "Summary: __START__ thái văn, chủ tịch đảng dân tiến, giành chiến thắng bầu cử đứng đầu chính quyền đài loan.thách thức đối giải quyết quan hệ nguội lạnh trung quốc vực dậy kinh tế đài loan suy thoái.bà thái bảo vệ nguyên trạng trung quốc, bắc kinh tôn trọng dân chủ đài loan.trước đó, trung quốc tuyên bố đài loan lãnh thổ mình, đồng thời đe dọa sẵn sàng chiếm vũ lực thiết.sau bầu cử, bắc kinh cường áp lực hòn đảo tổ chức tập trận quân sự, sức ép ngoại giao. __END__\n",
      "\n",
      "\n",
      "Review: quan nêu chuyên gia chia sẻ hội thảo “tp hcm khát vọng vươn lên” báo trẻ tổ chức 19/5.theo pgs. ts trần đình thiên viện trưởng viện kinh tế việt nam, tp hcm đầu tàu chạ\n",
      "Summary: __START__ 19-5, hội thảo “tp.hcm khát vọng vươn lên”, chuyên gia nguyên nhân cản trở vươn tp.hcm, đồng thời giải pháp tp bứt phá, vươn lên, trở thành tp chất sống tốt, văn minh, hiện đại, nghĩa tình.theo chuyên gia tp.hcm nhược điểm: lực ít, đội ngũ động lực, thể chế trói buộc phát triển.do vậy, tp vươn tp.hcm tầm tư đột phá.tp hcm đầu tàu chạy toa lại.tp.hcm tụt hậu tp khác, tp 40-50 trình độ xuất phát tp.hcm.chuyên gia định tp hcm động lực tiến lên.ông đề cập giải pháp kinh tế ngăn ạt di cư thành phố, đặc biệt lao động trình độ thấp, tải dân xu hướng “nông thôn hóa”. __END__\n",
      "\n",
      "\n",
      "Review: lan chết tư trói, cửa tập thể xác chồng gục vũng máu. hiện trường dấu hiệu vụ nổ.căn dấu vết hiện trường, hiện giả thuyết chồng sát hại vợ vật liệu nổ vẫn. nhiên, quan công an công bố thông kết luận ban đầu.theo tra, lan huấn quê hoá, công ty than thị trấn sơn, huyện sơn động. kết hôn năm, con. đây, hai vợ chồng mâu thuẫn.vụ tiếp tục tra.\n",
      "Summary: __START__ 19.5, dân thị trấn sơn phát hiện cặp vợ chồng tử vong bất địa phương.danh nạn nhân xác định đỗ viết t. vũ thị l. quê huyện thiệu hóa, hóa.bước đầu quan công nghi vấn, mâu thuẫn gia đình giết vợ sát vật liệu nổ.gần đây, đồng nghiệp xung quanh hai vợ chồng xuyên mâu thuẫn.vụ công an tỉnh bắc giang tra rõ./. __END__\n",
      "\n",
      "\n",
      "Review: 16h 19/5, phạm đức huy hàn thùng xe tô tải bks: 47c-114.26, may điện giật tử vong.theo thông ban đầu, tiếng, huy trần hữu trung 93 giải phóng, p. tân thành, tp. buôn ma thuột bốc lốp xe cũ tô tải. phát hiện thùng xe hư huy kéo điện hàn lại. trình việc, may huy điện giật tử vong.ông trần hữu trung biết, phát hiện huy nằm bất tỉnh thùng xe; toàn xe nhiễm điện. lập tức, hô hoán giúp đỡ, đồng thời ngắt cầu dao điện.anh huy bệnh viện đa khoa tỉnh đắk lắk cứu nạn nhân tử vong.sau báo, lực công an tp.buôn ma thuột khẩn trương mặt, tiến hành khám nghiệm hiện trường, khai liên quan tra, nguyên nhân vụ việc.\n",
      "Summary: __START__ quan csđt tp. buôn ma thuột tiến hành tra nguyên nhân chết phạm đức huy .ngày 19/5, huy khiển xe tải gara phường tân thành sửa chữa.phát hiện thùng hư huy kéo điện hàn lại.lúc hai vợ chồng chủ sở phát hiện huy nằm bất động, thùng xe nhiễm điện hô hoán huy đi cứu bệnh viện đa khoa tỉnh đắk lắc.tuy nhiên, bệnh viện xác định nạn nhân tử vong bệnh viện. __END__\n",
      "\n",
      "\n"
     ]
    }
   ],
   "source": [
    "for i in range(5):\n",
    "    print(\"Review:\",df_clean['text'][i])\n",
    "    print(\"Summary:\",df_clean['summary'][i])\n",
    "    print(\"\\n\")"
   ]
  },
  {
   "cell_type": "code",
   "execution_count": 83,
   "metadata": {},
   "outputs": [],
   "source": [
    "from sklearn.model_selection import train_test_split\n",
    "\n",
    "x_tr,x_val,y_tr,y_val=train_test_split(np.array(df_clean['text']), np.array(df_clean['summary']),\n",
    "                                       test_size=0.1, random_state=0, shuffle=True) \n",
    "\n",
    "# A tokenizer builds the vocabulary and converts a word sequence to an integer sequence.\n",
    "# We will now build tokenizers for text and summary.\n",
    "\n",
    "x_tokenizer = Tokenizer() \n",
    "x_tokenizer.fit_on_texts(list(x_tr))\n"
   ]
  },
  {
   "cell_type": "code",
   "execution_count": 84,
   "metadata": {},
   "outputs": [
    {
     "name": "stdout",
     "output_type": "stream",
     "text": [
      "% of rare words in vocabulary: 62.464387464387464\n",
      "Total Coverage of rare words: 9.963716836931628\n"
     ]
    }
   ],
   "source": [
    "thresh=4\n",
    "\n",
    "cnt=0\n",
    "tot_cnt=0\n",
    "freq=0\n",
    "tot_freq=0\n",
    "\n",
    "for key,value in x_tokenizer.word_counts.items():\n",
    "    tot_cnt=tot_cnt+1\n",
    "    tot_freq=tot_freq+value\n",
    "    if(value<thresh):\n",
    "        cnt=cnt+1\n",
    "        freq=freq+value\n",
    "    \n",
    "print(\"% of rare words in vocabulary:\", (cnt/tot_cnt)*100)\n",
    "print(\"Total Coverage of rare words:\", (freq/tot_freq)*100)"
   ]
  },
  {
   "cell_type": "code",
   "execution_count": 85,
   "metadata": {},
   "outputs": [
    {
     "name": "stdout",
     "output_type": "stream",
     "text": [
      "2631\n",
      "4212\n"
     ]
    },
    {
     "data": {
      "text/plain": [
       "(None, None)"
      ]
     },
     "execution_count": 85,
     "metadata": {},
     "output_type": "execute_result"
    }
   ],
   "source": [
    "print(cnt),print(tot_cnt)"
   ]
  },
  {
   "cell_type": "code",
   "execution_count": 86,
   "metadata": {},
   "outputs": [],
   "source": [
    "from keras.utils import pad_sequences\n",
    "x_tokenizer = Tokenizer(num_words=tot_cnt-cnt) # num_words: the maximum number of words to keep, based on word frequency.\n",
    "x_tokenizer.fit_on_texts(list(x_tr))\n",
    "\n",
    "#convert text sequences into integer sequences\n",
    "x_tr_seq    =   x_tokenizer.texts_to_sequences(x_tr) \n",
    "x_val_seq   =   x_tokenizer.texts_to_sequences(x_val)\n",
    "\n",
    "#padding zero upto maximum length\n",
    "x_tr    =   pad_sequences(x_tr_seq,  maxlen=max_text_len, padding='post')\n",
    "x_val   =   pad_sequences(x_val_seq, maxlen=max_text_len, padding='post')\n",
    "\n",
    "#size of vocabulary ( +1 for padding token)\n",
    "x_voc   =  x_tokenizer.num_words + 1"
   ]
  },
  {
   "cell_type": "code",
   "execution_count": 87,
   "metadata": {},
   "outputs": [
    {
     "data": {
      "text/plain": [
       "1582"
      ]
     },
     "execution_count": 87,
     "metadata": {},
     "output_type": "execute_result"
    }
   ],
   "source": [
    "x_voc"
   ]
  },
  {
   "cell_type": "code",
   "execution_count": 88,
   "metadata": {},
   "outputs": [],
   "source": [
    "y_tokenizer = Tokenizer()   \n",
    "y_tokenizer.fit_on_texts(list(y_tr))"
   ]
  },
  {
   "cell_type": "code",
   "execution_count": 89,
   "metadata": {},
   "outputs": [
    {
     "name": "stdout",
     "output_type": "stream",
     "text": [
      "% of rare words in vocabulary: 73.31904634342352\n",
      "Total Coverage of rare words: 17.134959235802512\n"
     ]
    }
   ],
   "source": [
    "thresh=6\n",
    "\n",
    "cnt=0\n",
    "tot_cnt=0\n",
    "freq=0\n",
    "tot_freq=0\n",
    "\n",
    "for key,value in y_tokenizer.word_counts.items():\n",
    "    tot_cnt=tot_cnt+1\n",
    "    tot_freq=tot_freq+value\n",
    "    if(value<thresh):\n",
    "        cnt=cnt+1\n",
    "        freq=freq+value\n",
    "    \n",
    "print(\"% of rare words in vocabulary:\",(cnt/tot_cnt)*100)\n",
    "print(\"Total Coverage of rare words:\",(freq/tot_freq)*100)"
   ]
  },
  {
   "cell_type": "code",
   "execution_count": 90,
   "metadata": {},
   "outputs": [
    {
     "name": "stdout",
     "output_type": "stream",
     "text": [
      "2737\n",
      "3733\n"
     ]
    },
    {
     "data": {
      "text/plain": [
       "(None, None)"
      ]
     },
     "execution_count": 90,
     "metadata": {},
     "output_type": "execute_result"
    }
   ],
   "source": [
    "print(cnt),print(tot_cnt)"
   ]
  },
  {
   "cell_type": "code",
   "execution_count": 91,
   "metadata": {},
   "outputs": [
    {
     "name": "stdout",
     "output_type": "stream",
     "text": [
      "4897\n",
      "28579\n"
     ]
    },
    {
     "data": {
      "text/plain": [
       "(None, None)"
      ]
     },
     "execution_count": 91,
     "metadata": {},
     "output_type": "execute_result"
    }
   ],
   "source": [
    "print(freq),print(tot_freq)"
   ]
  },
  {
   "cell_type": "code",
   "execution_count": 92,
   "metadata": {},
   "outputs": [],
   "source": [
    "#prepare a tokenizer for reviews on training data\n",
    "y_tokenizer = Tokenizer(num_words=tot_cnt-cnt) \n",
    "y_tokenizer.fit_on_texts(list(y_tr))\n",
    "\n",
    "#convert text sequences into integer sequences\n",
    "y_tr_seq    =   y_tokenizer.texts_to_sequences(y_tr) \n",
    "y_val_seq   =   y_tokenizer.texts_to_sequences(y_val) \n",
    "\n",
    "#padding zero upto maximum length\n",
    "y_tr    =   pad_sequences(y_tr_seq, maxlen=max_summary_len, padding='post')\n",
    "y_val   =   pad_sequences(y_val_seq, maxlen=max_summary_len, padding='post')\n",
    "\n",
    "#size of vocabulary\n",
    "y_voc  =   y_tokenizer.num_words +1"
   ]
  },
  {
   "cell_type": "code",
   "execution_count": 93,
   "metadata": {},
   "outputs": [],
   "source": [
    "ind=[]\n",
    "for i in range(len(y_tr)):\n",
    "    cnt=0\n",
    "    for j in y_tr[i]:\n",
    "        if j!=0:\n",
    "            cnt=cnt+1\n",
    "    if(cnt==2):\n",
    "        ind.append(i)\n",
    "\n",
    "y_tr=np.delete(y_tr,ind, axis=0)\n",
    "x_tr=np.delete(x_tr,ind, axis=0)"
   ]
  },
  {
   "cell_type": "code",
   "execution_count": 94,
   "metadata": {},
   "outputs": [],
   "source": [
    "ind=[]\n",
    "for i in range(len(y_val)):\n",
    "    cnt=0\n",
    "    for j in y_val[i]:\n",
    "        if j!=0:\n",
    "            cnt=cnt+1\n",
    "    if(cnt==2):\n",
    "        ind.append(i)\n",
    "\n",
    "y_val=np.delete(y_val,ind, axis=0)\n",
    "x_val=np.delete(x_val,ind, axis=0)"
   ]
  },
  {
   "cell_type": "code",
   "execution_count": 95,
   "metadata": {},
   "outputs": [],
   "source": [
    "from tensorflow.keras.layers import Attention\n"
   ]
  },
  {
   "cell_type": "code",
   "execution_count": 96,
   "metadata": {},
   "outputs": [
    {
     "data": {
      "text/html": [
       "<pre style=\"white-space:pre;overflow-x:auto;line-height:normal;font-family:Menlo,'DejaVu Sans Mono',consolas,'Courier New',monospace\"><span style=\"font-weight: bold\">Model: \"functional_1\"</span>\n",
       "</pre>\n"
      ],
      "text/plain": [
       "\u001b[1mModel: \"functional_1\"\u001b[0m\n"
      ]
     },
     "metadata": {},
     "output_type": "display_data"
    },
    {
     "data": {
      "text/html": [
       "<pre style=\"white-space:pre;overflow-x:auto;line-height:normal;font-family:Menlo,'DejaVu Sans Mono',consolas,'Courier New',monospace\">┏━━━━━━━━━━━━━━━━━━━━━┳━━━━━━━━━━━━━━━━━━━┳━━━━━━━━━━━━┳━━━━━━━━━━━━━━━━━━━┓\n",
       "┃<span style=\"font-weight: bold\"> Layer (type)        </span>┃<span style=\"font-weight: bold\"> Output Shape      </span>┃<span style=\"font-weight: bold\">    Param # </span>┃<span style=\"font-weight: bold\"> Connected to      </span>┃\n",
       "┡━━━━━━━━━━━━━━━━━━━━━╇━━━━━━━━━━━━━━━━━━━╇━━━━━━━━━━━━╇━━━━━━━━━━━━━━━━━━━┩\n",
       "│ input_layer_2       │ (<span style=\"color: #00d7ff; text-decoration-color: #00d7ff\">None</span>, <span style=\"color: #00af00; text-decoration-color: #00af00\">300</span>)       │          <span style=\"color: #00af00; text-decoration-color: #00af00\">0</span> │ -                 │\n",
       "│ (<span style=\"color: #0087ff; text-decoration-color: #0087ff\">InputLayer</span>)        │                   │            │                   │\n",
       "├─────────────────────┼───────────────────┼────────────┼───────────────────┤\n",
       "│ embedding_2         │ (<span style=\"color: #00d7ff; text-decoration-color: #00d7ff\">None</span>, <span style=\"color: #00af00; text-decoration-color: #00af00\">300</span>, <span style=\"color: #00af00; text-decoration-color: #00af00\">100</span>)  │    <span style=\"color: #00af00; text-decoration-color: #00af00\">158,200</span> │ input_layer_2[<span style=\"color: #00af00; text-decoration-color: #00af00\">0</span>]… │\n",
       "│ (<span style=\"color: #0087ff; text-decoration-color: #0087ff\">Embedding</span>)         │                   │            │                   │\n",
       "├─────────────────────┼───────────────────┼────────────┼───────────────────┤\n",
       "│ lstm_4 (<span style=\"color: #0087ff; text-decoration-color: #0087ff\">LSTM</span>)       │ [(<span style=\"color: #00d7ff; text-decoration-color: #00d7ff\">None</span>, <span style=\"color: #00af00; text-decoration-color: #00af00\">300</span>,      │    <span style=\"color: #00af00; text-decoration-color: #00af00\">481,200</span> │ embedding_2[<span style=\"color: #00af00; text-decoration-color: #00af00\">0</span>][<span style=\"color: #00af00; text-decoration-color: #00af00\">0</span>] │\n",
       "│                     │ <span style=\"color: #00af00; text-decoration-color: #00af00\">300</span>), (<span style=\"color: #00d7ff; text-decoration-color: #00d7ff\">None</span>,      │            │                   │\n",
       "│                     │ <span style=\"color: #00af00; text-decoration-color: #00af00\">300</span>), (<span style=\"color: #00d7ff; text-decoration-color: #00d7ff\">None</span>,      │            │                   │\n",
       "│                     │ <span style=\"color: #00af00; text-decoration-color: #00af00\">300</span>)]             │            │                   │\n",
       "├─────────────────────┼───────────────────┼────────────┼───────────────────┤\n",
       "│ input_layer_3       │ (<span style=\"color: #00d7ff; text-decoration-color: #00d7ff\">None</span>, <span style=\"color: #00d7ff; text-decoration-color: #00d7ff\">None</span>)      │          <span style=\"color: #00af00; text-decoration-color: #00af00\">0</span> │ -                 │\n",
       "│ (<span style=\"color: #0087ff; text-decoration-color: #0087ff\">InputLayer</span>)        │                   │            │                   │\n",
       "├─────────────────────┼───────────────────┼────────────┼───────────────────┤\n",
       "│ lstm_5 (<span style=\"color: #0087ff; text-decoration-color: #0087ff\">LSTM</span>)       │ [(<span style=\"color: #00d7ff; text-decoration-color: #00d7ff\">None</span>, <span style=\"color: #00af00; text-decoration-color: #00af00\">300</span>,      │    <span style=\"color: #00af00; text-decoration-color: #00af00\">721,200</span> │ lstm_4[<span style=\"color: #00af00; text-decoration-color: #00af00\">0</span>][<span style=\"color: #00af00; text-decoration-color: #00af00\">0</span>]      │\n",
       "│                     │ <span style=\"color: #00af00; text-decoration-color: #00af00\">300</span>), (<span style=\"color: #00d7ff; text-decoration-color: #00d7ff\">None</span>,      │            │                   │\n",
       "│                     │ <span style=\"color: #00af00; text-decoration-color: #00af00\">300</span>), (<span style=\"color: #00d7ff; text-decoration-color: #00d7ff\">None</span>,      │            │                   │\n",
       "│                     │ <span style=\"color: #00af00; text-decoration-color: #00af00\">300</span>)]             │            │                   │\n",
       "├─────────────────────┼───────────────────┼────────────┼───────────────────┤\n",
       "│ embedding_3         │ (<span style=\"color: #00d7ff; text-decoration-color: #00d7ff\">None</span>, <span style=\"color: #00d7ff; text-decoration-color: #00d7ff\">None</span>, <span style=\"color: #00af00; text-decoration-color: #00af00\">100</span>) │     <span style=\"color: #00af00; text-decoration-color: #00af00\">99,700</span> │ input_layer_3[<span style=\"color: #00af00; text-decoration-color: #00af00\">0</span>]… │\n",
       "│ (<span style=\"color: #0087ff; text-decoration-color: #0087ff\">Embedding</span>)         │                   │            │                   │\n",
       "├─────────────────────┼───────────────────┼────────────┼───────────────────┤\n",
       "│ lstm_6 (<span style=\"color: #0087ff; text-decoration-color: #0087ff\">LSTM</span>)       │ [(<span style=\"color: #00d7ff; text-decoration-color: #00d7ff\">None</span>, <span style=\"color: #00af00; text-decoration-color: #00af00\">300</span>,      │    <span style=\"color: #00af00; text-decoration-color: #00af00\">721,200</span> │ lstm_5[<span style=\"color: #00af00; text-decoration-color: #00af00\">0</span>][<span style=\"color: #00af00; text-decoration-color: #00af00\">0</span>]      │\n",
       "│                     │ <span style=\"color: #00af00; text-decoration-color: #00af00\">300</span>), (<span style=\"color: #00d7ff; text-decoration-color: #00d7ff\">None</span>,      │            │                   │\n",
       "│                     │ <span style=\"color: #00af00; text-decoration-color: #00af00\">300</span>), (<span style=\"color: #00d7ff; text-decoration-color: #00d7ff\">None</span>,      │            │                   │\n",
       "│                     │ <span style=\"color: #00af00; text-decoration-color: #00af00\">300</span>)]             │            │                   │\n",
       "├─────────────────────┼───────────────────┼────────────┼───────────────────┤\n",
       "│ lstm_7 (<span style=\"color: #0087ff; text-decoration-color: #0087ff\">LSTM</span>)       │ [(<span style=\"color: #00d7ff; text-decoration-color: #00d7ff\">None</span>, <span style=\"color: #00d7ff; text-decoration-color: #00d7ff\">None</span>,     │    <span style=\"color: #00af00; text-decoration-color: #00af00\">481,200</span> │ embedding_3[<span style=\"color: #00af00; text-decoration-color: #00af00\">0</span>][<span style=\"color: #00af00; text-decoration-color: #00af00\">0</span>… │\n",
       "│                     │ <span style=\"color: #00af00; text-decoration-color: #00af00\">300</span>), (<span style=\"color: #00d7ff; text-decoration-color: #00d7ff\">None</span>,      │            │ lstm_6[<span style=\"color: #00af00; text-decoration-color: #00af00\">0</span>][<span style=\"color: #00af00; text-decoration-color: #00af00\">1</span>],     │\n",
       "│                     │ <span style=\"color: #00af00; text-decoration-color: #00af00\">300</span>), (<span style=\"color: #00d7ff; text-decoration-color: #00d7ff\">None</span>,      │            │ lstm_6[<span style=\"color: #00af00; text-decoration-color: #00af00\">0</span>][<span style=\"color: #00af00; text-decoration-color: #00af00\">2</span>]      │\n",
       "│                     │ <span style=\"color: #00af00; text-decoration-color: #00af00\">300</span>)]             │            │                   │\n",
       "├─────────────────────┼───────────────────┼────────────┼───────────────────┤\n",
       "│ attention_layer     │ (<span style=\"color: #00d7ff; text-decoration-color: #00d7ff\">None</span>, <span style=\"color: #00af00; text-decoration-color: #00af00\">300</span>, <span style=\"color: #00af00; text-decoration-color: #00af00\">300</span>)  │          <span style=\"color: #00af00; text-decoration-color: #00af00\">0</span> │ lstm_6[<span style=\"color: #00af00; text-decoration-color: #00af00\">0</span>][<span style=\"color: #00af00; text-decoration-color: #00af00\">0</span>],     │\n",
       "│ (<span style=\"color: #0087ff; text-decoration-color: #0087ff\">Attention</span>)         │                   │            │ lstm_7[<span style=\"color: #00af00; text-decoration-color: #00af00\">0</span>][<span style=\"color: #00af00; text-decoration-color: #00af00\">0</span>]      │\n",
       "├─────────────────────┼───────────────────┼────────────┼───────────────────┤\n",
       "│ concat_layer        │ (<span style=\"color: #00d7ff; text-decoration-color: #00d7ff\">None</span>, <span style=\"color: #00d7ff; text-decoration-color: #00d7ff\">None</span>, <span style=\"color: #00af00; text-decoration-color: #00af00\">600</span>) │          <span style=\"color: #00af00; text-decoration-color: #00af00\">0</span> │ lstm_7[<span style=\"color: #00af00; text-decoration-color: #00af00\">0</span>][<span style=\"color: #00af00; text-decoration-color: #00af00\">0</span>],     │\n",
       "│ (<span style=\"color: #0087ff; text-decoration-color: #0087ff\">Concatenate</span>)       │                   │            │ attention_layer[<span style=\"color: #00af00; text-decoration-color: #00af00\">…</span> │\n",
       "├─────────────────────┼───────────────────┼────────────┼───────────────────┤\n",
       "│ time_distributed_1  │ (<span style=\"color: #00d7ff; text-decoration-color: #00d7ff\">None</span>, <span style=\"color: #00d7ff; text-decoration-color: #00d7ff\">None</span>, <span style=\"color: #00af00; text-decoration-color: #00af00\">997</span>) │    <span style=\"color: #00af00; text-decoration-color: #00af00\">599,197</span> │ concat_layer[<span style=\"color: #00af00; text-decoration-color: #00af00\">0</span>][<span style=\"color: #00af00; text-decoration-color: #00af00\">…</span> │\n",
       "│ (<span style=\"color: #0087ff; text-decoration-color: #0087ff\">TimeDistributed</span>)   │                   │            │                   │\n",
       "└─────────────────────┴───────────────────┴────────────┴───────────────────┘\n",
       "</pre>\n"
      ],
      "text/plain": [
       "┏━━━━━━━━━━━━━━━━━━━━━┳━━━━━━━━━━━━━━━━━━━┳━━━━━━━━━━━━┳━━━━━━━━━━━━━━━━━━━┓\n",
       "┃\u001b[1m \u001b[0m\u001b[1mLayer (type)       \u001b[0m\u001b[1m \u001b[0m┃\u001b[1m \u001b[0m\u001b[1mOutput Shape     \u001b[0m\u001b[1m \u001b[0m┃\u001b[1m \u001b[0m\u001b[1m   Param #\u001b[0m\u001b[1m \u001b[0m┃\u001b[1m \u001b[0m\u001b[1mConnected to     \u001b[0m\u001b[1m \u001b[0m┃\n",
       "┡━━━━━━━━━━━━━━━━━━━━━╇━━━━━━━━━━━━━━━━━━━╇━━━━━━━━━━━━╇━━━━━━━━━━━━━━━━━━━┩\n",
       "│ input_layer_2       │ (\u001b[38;5;45mNone\u001b[0m, \u001b[38;5;34m300\u001b[0m)       │          \u001b[38;5;34m0\u001b[0m │ -                 │\n",
       "│ (\u001b[38;5;33mInputLayer\u001b[0m)        │                   │            │                   │\n",
       "├─────────────────────┼───────────────────┼────────────┼───────────────────┤\n",
       "│ embedding_2         │ (\u001b[38;5;45mNone\u001b[0m, \u001b[38;5;34m300\u001b[0m, \u001b[38;5;34m100\u001b[0m)  │    \u001b[38;5;34m158,200\u001b[0m │ input_layer_2[\u001b[38;5;34m0\u001b[0m]… │\n",
       "│ (\u001b[38;5;33mEmbedding\u001b[0m)         │                   │            │                   │\n",
       "├─────────────────────┼───────────────────┼────────────┼───────────────────┤\n",
       "│ lstm_4 (\u001b[38;5;33mLSTM\u001b[0m)       │ [(\u001b[38;5;45mNone\u001b[0m, \u001b[38;5;34m300\u001b[0m,      │    \u001b[38;5;34m481,200\u001b[0m │ embedding_2[\u001b[38;5;34m0\u001b[0m][\u001b[38;5;34m0\u001b[0m] │\n",
       "│                     │ \u001b[38;5;34m300\u001b[0m), (\u001b[38;5;45mNone\u001b[0m,      │            │                   │\n",
       "│                     │ \u001b[38;5;34m300\u001b[0m), (\u001b[38;5;45mNone\u001b[0m,      │            │                   │\n",
       "│                     │ \u001b[38;5;34m300\u001b[0m)]             │            │                   │\n",
       "├─────────────────────┼───────────────────┼────────────┼───────────────────┤\n",
       "│ input_layer_3       │ (\u001b[38;5;45mNone\u001b[0m, \u001b[38;5;45mNone\u001b[0m)      │          \u001b[38;5;34m0\u001b[0m │ -                 │\n",
       "│ (\u001b[38;5;33mInputLayer\u001b[0m)        │                   │            │                   │\n",
       "├─────────────────────┼───────────────────┼────────────┼───────────────────┤\n",
       "│ lstm_5 (\u001b[38;5;33mLSTM\u001b[0m)       │ [(\u001b[38;5;45mNone\u001b[0m, \u001b[38;5;34m300\u001b[0m,      │    \u001b[38;5;34m721,200\u001b[0m │ lstm_4[\u001b[38;5;34m0\u001b[0m][\u001b[38;5;34m0\u001b[0m]      │\n",
       "│                     │ \u001b[38;5;34m300\u001b[0m), (\u001b[38;5;45mNone\u001b[0m,      │            │                   │\n",
       "│                     │ \u001b[38;5;34m300\u001b[0m), (\u001b[38;5;45mNone\u001b[0m,      │            │                   │\n",
       "│                     │ \u001b[38;5;34m300\u001b[0m)]             │            │                   │\n",
       "├─────────────────────┼───────────────────┼────────────┼───────────────────┤\n",
       "│ embedding_3         │ (\u001b[38;5;45mNone\u001b[0m, \u001b[38;5;45mNone\u001b[0m, \u001b[38;5;34m100\u001b[0m) │     \u001b[38;5;34m99,700\u001b[0m │ input_layer_3[\u001b[38;5;34m0\u001b[0m]… │\n",
       "│ (\u001b[38;5;33mEmbedding\u001b[0m)         │                   │            │                   │\n",
       "├─────────────────────┼───────────────────┼────────────┼───────────────────┤\n",
       "│ lstm_6 (\u001b[38;5;33mLSTM\u001b[0m)       │ [(\u001b[38;5;45mNone\u001b[0m, \u001b[38;5;34m300\u001b[0m,      │    \u001b[38;5;34m721,200\u001b[0m │ lstm_5[\u001b[38;5;34m0\u001b[0m][\u001b[38;5;34m0\u001b[0m]      │\n",
       "│                     │ \u001b[38;5;34m300\u001b[0m), (\u001b[38;5;45mNone\u001b[0m,      │            │                   │\n",
       "│                     │ \u001b[38;5;34m300\u001b[0m), (\u001b[38;5;45mNone\u001b[0m,      │            │                   │\n",
       "│                     │ \u001b[38;5;34m300\u001b[0m)]             │            │                   │\n",
       "├─────────────────────┼───────────────────┼────────────┼───────────────────┤\n",
       "│ lstm_7 (\u001b[38;5;33mLSTM\u001b[0m)       │ [(\u001b[38;5;45mNone\u001b[0m, \u001b[38;5;45mNone\u001b[0m,     │    \u001b[38;5;34m481,200\u001b[0m │ embedding_3[\u001b[38;5;34m0\u001b[0m][\u001b[38;5;34m0\u001b[0m… │\n",
       "│                     │ \u001b[38;5;34m300\u001b[0m), (\u001b[38;5;45mNone\u001b[0m,      │            │ lstm_6[\u001b[38;5;34m0\u001b[0m][\u001b[38;5;34m1\u001b[0m],     │\n",
       "│                     │ \u001b[38;5;34m300\u001b[0m), (\u001b[38;5;45mNone\u001b[0m,      │            │ lstm_6[\u001b[38;5;34m0\u001b[0m][\u001b[38;5;34m2\u001b[0m]      │\n",
       "│                     │ \u001b[38;5;34m300\u001b[0m)]             │            │                   │\n",
       "├─────────────────────┼───────────────────┼────────────┼───────────────────┤\n",
       "│ attention_layer     │ (\u001b[38;5;45mNone\u001b[0m, \u001b[38;5;34m300\u001b[0m, \u001b[38;5;34m300\u001b[0m)  │          \u001b[38;5;34m0\u001b[0m │ lstm_6[\u001b[38;5;34m0\u001b[0m][\u001b[38;5;34m0\u001b[0m],     │\n",
       "│ (\u001b[38;5;33mAttention\u001b[0m)         │                   │            │ lstm_7[\u001b[38;5;34m0\u001b[0m][\u001b[38;5;34m0\u001b[0m]      │\n",
       "├─────────────────────┼───────────────────┼────────────┼───────────────────┤\n",
       "│ concat_layer        │ (\u001b[38;5;45mNone\u001b[0m, \u001b[38;5;45mNone\u001b[0m, \u001b[38;5;34m600\u001b[0m) │          \u001b[38;5;34m0\u001b[0m │ lstm_7[\u001b[38;5;34m0\u001b[0m][\u001b[38;5;34m0\u001b[0m],     │\n",
       "│ (\u001b[38;5;33mConcatenate\u001b[0m)       │                   │            │ attention_layer[\u001b[38;5;34m…\u001b[0m │\n",
       "├─────────────────────┼───────────────────┼────────────┼───────────────────┤\n",
       "│ time_distributed_1  │ (\u001b[38;5;45mNone\u001b[0m, \u001b[38;5;45mNone\u001b[0m, \u001b[38;5;34m997\u001b[0m) │    \u001b[38;5;34m599,197\u001b[0m │ concat_layer[\u001b[38;5;34m0\u001b[0m][\u001b[38;5;34m…\u001b[0m │\n",
       "│ (\u001b[38;5;33mTimeDistributed\u001b[0m)   │                   │            │                   │\n",
       "└─────────────────────┴───────────────────┴────────────┴───────────────────┘\n"
      ]
     },
     "metadata": {},
     "output_type": "display_data"
    },
    {
     "data": {
      "text/html": [
       "<pre style=\"white-space:pre;overflow-x:auto;line-height:normal;font-family:Menlo,'DejaVu Sans Mono',consolas,'Courier New',monospace\"><span style=\"font-weight: bold\"> Total params: </span><span style=\"color: #00af00; text-decoration-color: #00af00\">3,261,897</span> (12.44 MB)\n",
       "</pre>\n"
      ],
      "text/plain": [
       "\u001b[1m Total params: \u001b[0m\u001b[38;5;34m3,261,897\u001b[0m (12.44 MB)\n"
      ]
     },
     "metadata": {},
     "output_type": "display_data"
    },
    {
     "data": {
      "text/html": [
       "<pre style=\"white-space:pre;overflow-x:auto;line-height:normal;font-family:Menlo,'DejaVu Sans Mono',consolas,'Courier New',monospace\"><span style=\"font-weight: bold\"> Trainable params: </span><span style=\"color: #00af00; text-decoration-color: #00af00\">3,261,897</span> (12.44 MB)\n",
       "</pre>\n"
      ],
      "text/plain": [
       "\u001b[1m Trainable params: \u001b[0m\u001b[38;5;34m3,261,897\u001b[0m (12.44 MB)\n"
      ]
     },
     "metadata": {},
     "output_type": "display_data"
    },
    {
     "data": {
      "text/html": [
       "<pre style=\"white-space:pre;overflow-x:auto;line-height:normal;font-family:Menlo,'DejaVu Sans Mono',consolas,'Courier New',monospace\"><span style=\"font-weight: bold\"> Non-trainable params: </span><span style=\"color: #00af00; text-decoration-color: #00af00\">0</span> (0.00 B)\n",
       "</pre>\n"
      ],
      "text/plain": [
       "\u001b[1m Non-trainable params: \u001b[0m\u001b[38;5;34m0\u001b[0m (0.00 B)\n"
      ]
     },
     "metadata": {},
     "output_type": "display_data"
    }
   ],
   "source": [
    "from tensorflow.keras.layers import Input, LSTM, Embedding, Dense, Concatenate, TimeDistributed,AdditiveAttention\n",
    "from tensorflow.keras.models import Model\n",
    "from tensorflow.keras.callbacks import EarlyStopping\n",
    "latent_dim = 300\n",
    "embedding_dim=100\n",
    "\n",
    "# Encoder\n",
    "encoder_inputs = Input(shape=(max_text_len,))\n",
    "\n",
    "#embedding layer\n",
    "enc_emb =  Embedding(x_voc, embedding_dim,trainable=True)(encoder_inputs)\n",
    "\n",
    "#encoder lstm 1\n",
    "encoder_lstm1 = LSTM(latent_dim,return_sequences=True,return_state=True,dropout=0.4,recurrent_dropout=0.4)\n",
    "encoder_output1, state_h1, state_c1 = encoder_lstm1(enc_emb)\n",
    "\n",
    "#encoder lstm 2\n",
    "encoder_lstm2 = LSTM(latent_dim,return_sequences=True,return_state=True,dropout=0.4,recurrent_dropout=0.4)\n",
    "encoder_output2, state_h2, state_c2 = encoder_lstm2(encoder_output1)\n",
    "\n",
    "#encoder lstm 3\n",
    "encoder_lstm3=LSTM(latent_dim, return_state=True, return_sequences=True,dropout=0.4,recurrent_dropout=0.4)\n",
    "encoder_outputs, state_h, state_c= encoder_lstm3(encoder_output2)\n",
    "\n",
    "# Set up the decoder, using `encoder_states` as initial state.\n",
    "decoder_inputs = Input(shape=(None,))\n",
    "\n",
    "#embedding layer\n",
    "dec_emb_layer = Embedding(y_voc, embedding_dim,trainable=True)\n",
    "dec_emb = dec_emb_layer(decoder_inputs)\n",
    "\n",
    "decoder_lstm = LSTM(latent_dim, return_sequences=True, return_state=True,dropout=0.4,recurrent_dropout=0.2)\n",
    "decoder_outputs,decoder_fwd_state, decoder_back_state = decoder_lstm(dec_emb,initial_state=[state_h, state_c])\n",
    "\n",
    "# Attention Layer (Additive or Scaled Dot-product)\n",
    "attention = AdditiveAttention()\n",
    "attn_out = attention([decoder_outputs, encoder_outputs])\n",
    "# Concat attention input and decoder LSTM output\n",
    "decoder_concat_input = Concatenate(axis=-1, name='concat_layer')([decoder_outputs, attn_out])\n",
    "\n",
    "#dense layer\n",
    "decoder_dense =  TimeDistributed(Dense(y_voc, activation='softmax'))\n",
    "decoder_outputs = decoder_dense(decoder_concat_input)\n",
    "\n",
    "# Define the model \n",
    "model = Model([encoder_inputs, decoder_inputs], decoder_outputs)\n",
    "\n",
    "model.summary()\n"
   ]
  },
  {
   "cell_type": "code",
   "execution_count": 97,
   "metadata": {},
   "outputs": [],
   "source": [
    "model.compile(optimizer='rmsprop', loss='sparse_categorical_crossentropy')"
   ]
  },
  {
   "cell_type": "code",
   "execution_count": 98,
   "metadata": {},
   "outputs": [],
   "source": [
    "import tensorflow as tf\n",
    "tf.config.set_visible_devices([], 'GPU')\n"
   ]
  },
  {
   "cell_type": "code",
   "execution_count": 99,
   "metadata": {},
   "outputs": [
    {
     "name": "stdout",
     "output_type": "stream",
     "text": [
      "[array([[   5,  229,   90, ...,    0,    0,    0],\n",
      "       [ 148,  644,   16, ...,    0,    0,    0],\n",
      "       [   2,   12,   91, ...,    0,    0,    0],\n",
      "       ...,\n",
      "       [1063,  644,   16, ...,    0,    0,    0],\n",
      "       [ 759, 1436,  327, ...,    0,    0,    0],\n",
      "       [ 502,   16, 1155, ...,    0,    0,    0]], dtype=int32), array([[  2,   7, 309, ...,   0,   0,   0],\n",
      "       [  2, 788,   8, ...,   0,   0,   0],\n",
      "       [  2,   5,  16, ...,   0,   0,   0],\n",
      "       ...,\n",
      "       [  2, 471, 831, ...,   0,   0,   0],\n",
      "       [  2,  92, 142, ...,   0,   0,   0],\n",
      "       [  2, 361,   8, ...,   0,   0,   0]], dtype=int32)]\n"
     ]
    }
   ],
   "source": [
    "print([x_tr, y_tr[:,:-1]])\n"
   ]
  },
  {
   "cell_type": "code",
   "execution_count": 100,
   "metadata": {},
   "outputs": [
    {
     "name": "stdout",
     "output_type": "stream",
     "text": [
      "(300,)\n"
     ]
    }
   ],
   "source": [
    "print(x_tr[2].shape)\n"
   ]
  },
  {
   "cell_type": "code",
   "execution_count": 101,
   "metadata": {},
   "outputs": [
    {
     "name": "stdout",
     "output_type": "stream",
     "text": [
      "(222, 299, 1)\n"
     ]
    }
   ],
   "source": [
    "print(y_tr.reshape(y_tr.shape[0], y_tr.shape[1], 1)[:,1:].shape)\n"
   ]
  },
  {
   "cell_type": "code",
   "execution_count": 102,
   "metadata": {},
   "outputs": [],
   "source": [
    "es = EarlyStopping(monitor='val_loss', mode='min', verbose=1,patience=2)"
   ]
  },
  {
   "cell_type": "code",
   "execution_count": 103,
   "metadata": {},
   "outputs": [
    {
     "name": "stdout",
     "output_type": "stream",
     "text": [
      "Epoch 1/50\n"
     ]
    },
    {
     "ename": "",
     "evalue": "",
     "output_type": "error",
     "traceback": [
      "\u001b[1;31mThe Kernel crashed while executing code in the current cell or a previous cell. \n",
      "\u001b[1;31mPlease review the code in the cell(s) to identify a possible cause of the failure. \n",
      "\u001b[1;31mClick <a href='https://aka.ms/vscodeJupyterKernelCrash'>here</a> for more info. \n",
      "\u001b[1;31mView Jupyter <a href='command:jupyter.viewOutput'>log</a> for further details."
     ]
    }
   ],
   "source": [
    "history=model.fit([x_tr,y_tr], \n",
    "                  y_tr,\n",
    "                  epochs=10,\n",
    "                  callbacks=[es],\n",
    "                  batch_size=128, \n",
    "                  validation_data=([x_val,y_val], y_val)\n",
    "                 )"
   ]
  },
  {
   "cell_type": "code",
   "execution_count": 75,
   "metadata": {},
   "outputs": [
    {
     "ename": "NameError",
     "evalue": "name 'tensor1' is not defined",
     "output_type": "error",
     "traceback": [
      "\u001b[0;31m---------------------------------------------------------------------------\u001b[0m",
      "\u001b[0;31mNameError\u001b[0m                                 Traceback (most recent call last)",
      "Cell \u001b[0;32mIn[75], line 1\u001b[0m\n\u001b[0;32m----> 1\u001b[0m \u001b[38;5;28mprint\u001b[39m(\u001b[43mtensor1\u001b[49m\u001b[38;5;241m.\u001b[39mshape)  \u001b[38;5;66;03m# Đầu ra của lớp đầu tiên\u001b[39;00m\n\u001b[1;32m      2\u001b[0m \u001b[38;5;28mprint\u001b[39m(tensor2\u001b[38;5;241m.\u001b[39mshape)  \u001b[38;5;66;03m# Đầu ra của lớp thứ hai\u001b[39;00m\n",
      "\u001b[0;31mNameError\u001b[0m: name 'tensor1' is not defined"
     ]
    }
   ],
   "source": [
    "from matplotlib import pyplot\n",
    "pyplot.plot(history.history['loss'], label='train')\n",
    "pyplot.plot(history.history['val_loss'], label='test')\n",
    "pyplot.legend()\n",
    "pyplot.show()"
   ]
  },
  {
   "cell_type": "code",
   "execution_count": 1,
   "metadata": {},
   "outputs": [
    {
     "ename": "NameError",
     "evalue": "name 'y_tokenizer' is not defined",
     "output_type": "error",
     "traceback": [
      "\u001b[0;31m---------------------------------------------------------------------------\u001b[0m",
      "\u001b[0;31mNameError\u001b[0m                                 Traceback (most recent call last)",
      "Cell \u001b[0;32mIn[1], line 1\u001b[0m\n\u001b[0;32m----> 1\u001b[0m reverse_target_word_index\u001b[38;5;241m=\u001b[39m\u001b[43my_tokenizer\u001b[49m\u001b[38;5;241m.\u001b[39mindex_word\n\u001b[1;32m      2\u001b[0m reverse_source_word_index\u001b[38;5;241m=\u001b[39mx_tokenizer\u001b[38;5;241m.\u001b[39mindex_word\n\u001b[1;32m      3\u001b[0m target_word_index\u001b[38;5;241m=\u001b[39my_tokenizer\u001b[38;5;241m.\u001b[39mword_index\n",
      "\u001b[0;31mNameError\u001b[0m: name 'y_tokenizer' is not defined"
     ]
    }
   ],
   "source": [
    "reverse_target_word_index=y_tokenizer.index_word\n",
    "reverse_source_word_index=x_tokenizer.index_word\n",
    "target_word_index=y_tokenizer.word_index"
   ]
  },
  {
   "cell_type": "code",
   "execution_count": 2,
   "metadata": {},
   "outputs": [
    {
     "ename": "NameError",
     "evalue": "name 'Model' is not defined",
     "output_type": "error",
     "traceback": [
      "\u001b[0;31m---------------------------------------------------------------------------\u001b[0m",
      "\u001b[0;31mNameError\u001b[0m                                 Traceback (most recent call last)",
      "Cell \u001b[0;32mIn[2], line 2\u001b[0m\n\u001b[1;32m      1\u001b[0m \u001b[38;5;66;03m# Encode the input sequence to get the feature vector\u001b[39;00m\n\u001b[0;32m----> 2\u001b[0m encoder_model \u001b[38;5;241m=\u001b[39m \u001b[43mModel\u001b[49m(inputs\u001b[38;5;241m=\u001b[39mencoder_inputs, outputs\u001b[38;5;241m=\u001b[39m[encoder_outputs, state_h, state_c])\n\u001b[1;32m      4\u001b[0m \u001b[38;5;66;03m# Decoder setup\u001b[39;00m\n\u001b[1;32m      5\u001b[0m \u001b[38;5;66;03m# Below tensors will hold the states of the previous time step\u001b[39;00m\n\u001b[1;32m      6\u001b[0m decoder_state_input_h \u001b[38;5;241m=\u001b[39m Input(shape\u001b[38;5;241m=\u001b[39m(latent_dim,))\n",
      "\u001b[0;31mNameError\u001b[0m: name 'Model' is not defined"
     ]
    }
   ],
   "source": [
    "# Encode the input sequence to get the feature vector\n",
    "encoder_model = Model(inputs=encoder_inputs, outputs=[encoder_outputs, state_h, state_c])\n",
    "\n",
    "# Decoder setup\n",
    "# Below tensors will hold the states of the previous time step\n",
    "decoder_state_input_h = Input(shape=(latent_dim,))\n",
    "decoder_state_input_c = Input(shape=(latent_dim,))\n",
    "decoder_hidden_state_input = Input(shape=(max_text_len,latent_dim))\n",
    "\n",
    "# Get the embeddings of the decoder sequence\n",
    "dec_emb2= dec_emb_layer(decoder_inputs) \n",
    "# To predict the next word in the sequence, set the initial states to the states from the previous time step\n",
    "decoder_outputs2, state_h2, state_c2 = decoder_lstm(dec_emb2, initial_state=[decoder_state_input_h, decoder_state_input_c])\n",
    "\n",
    "#attention inference\n",
    "attn_out_inf= attn_layer([decoder_hidden_state_input, decoder_outputs2])\n",
    "decoder_inf_concat = Concatenate(axis=-1, name='concat')([decoder_outputs2, attn_out_inf])\n",
    "\n",
    "# A dense softmax layer to generate prob dist. over the target vocabulary\n",
    "decoder_outputs2 = decoder_dense(decoder_inf_concat) \n",
    "\n",
    "# Final decoder model\n",
    "decoder_model = Model(\n",
    "    [decoder_inputs] + [decoder_hidden_state_input,decoder_state_input_h, decoder_state_input_c],\n",
    "    [decoder_outputs2] + [state_h2, state_c2])"
   ]
  },
  {
   "cell_type": "code",
   "execution_count": 3,
   "metadata": {},
   "outputs": [],
   "source": [
    "def decode_sequence(input_seq):\n",
    "    # Encode the input as state vectors.\n",
    "    e_out, e_h, e_c = encoder_model.predict(input_seq)\n",
    "    print(\"end\")\n",
    "    \n",
    "    # Generate empty target sequence of length 1.\n",
    "    target_seq = np.zeros((1,1))\n",
    "    # Populate the first word of target sequence with the start word.\n",
    "    target_seq[0,0] = target_word_index['start']\n",
    "\n",
    "    stop_condition = False\n",
    "    decoded_sentence = ''\n",
    "    while not stop_condition:\n",
    "        print(\"start0\")\n",
    "        output_tokens, h, c = decoder_model.predict([target_seq] + [e_out, e_h, e_c])\n",
    "        print(\"start\")\n",
    "        # Sample a token\n",
    "        print(output_tokens[0, -1, :].shape)\n",
    "        sampled_token_index = np.argmax(output_tokens[0, -1, :])\n",
    "        sampled_token = reverse_target_word_index[sampled_token_index]\n",
    "        print(\"start2\")\n",
    "        if(sampled_token!='end'):\n",
    "            decoded_sentence += ' '+sampled_token\n",
    "\n",
    "        # Exit condition: either hit max length or find stop word.\n",
    "        if (sampled_token == 'eostok'  or len(decoded_sentence.split()) >= (max_summary_len-1)):\n",
    "            stop_condition = True\n",
    "\n",
    "        # Update the target sequence (of length 1).\n",
    "        target_seq = np.zeros((1,1))\n",
    "        target_seq[0] = sampled_token_index\n",
    "\n",
    "        # Update internal states\n",
    "        e_h, e_c = h, c\n",
    "        print(\"end2\")\n",
    "    return decoded_sentence"
   ]
  },
  {
   "cell_type": "code",
   "execution_count": 4,
   "metadata": {},
   "outputs": [],
   "source": [
    "def seq2summary(input_seq):\n",
    "    newString=''\n",
    "    for i in input_seq:\n",
    "        if((i!=0 and i!=target_word_index['start']) and i!=target_word_index['end']):\n",
    "            newString=newString+reverse_target_word_index[i]+' '\n",
    "    return newString\n",
    "\n",
    "def seq2text(input_seq):\n",
    "    newString=''\n",
    "    for i in input_seq:\n",
    "        if(i!=0):\n",
    "            newString=newString+reverse_source_word_index[i]+' '\n",
    "    return newString"
   ]
  },
  {
   "cell_type": "code",
   "execution_count": 5,
   "metadata": {},
   "outputs": [
    {
     "ename": "NameError",
     "evalue": "name 'x_tr' is not defined",
     "output_type": "error",
     "traceback": [
      "\u001b[0;31m---------------------------------------------------------------------------\u001b[0m",
      "\u001b[0;31mNameError\u001b[0m                                 Traceback (most recent call last)",
      "Cell \u001b[0;32mIn[5], line 2\u001b[0m\n\u001b[1;32m      1\u001b[0m \u001b[38;5;28;01mfor\u001b[39;00m i \u001b[38;5;129;01min\u001b[39;00m \u001b[38;5;28mrange\u001b[39m(\u001b[38;5;241m0\u001b[39m, \u001b[38;5;241m10\u001b[39m,\u001b[38;5;241m10\u001b[39m):\n\u001b[0;32m----> 2\u001b[0m     \u001b[38;5;28mprint\u001b[39m(\u001b[38;5;124m\"\u001b[39m\u001b[38;5;124mReview:\u001b[39m\u001b[38;5;124m\"\u001b[39m,seq2text(\u001b[43mx_tr\u001b[49m[i]))\n\u001b[1;32m      3\u001b[0m     \u001b[38;5;28mprint\u001b[39m(\u001b[38;5;124m\"\u001b[39m\u001b[38;5;124mOriginal summary:\u001b[39m\u001b[38;5;124m\"\u001b[39m,seq2summary(y_tr[i]))\n\u001b[1;32m      4\u001b[0m     test \u001b[38;5;241m=\u001b[39m x_tr[i]\u001b[38;5;241m.\u001b[39mreshape(\u001b[38;5;241m1\u001b[39m,max_text_len)\n",
      "\u001b[0;31mNameError\u001b[0m: name 'x_tr' is not defined"
     ]
    }
   ],
   "source": [
    "for i in range(0, 10,10):\n",
    "    print(\"Review:\",seq2text(x_tr[i]))\n",
    "    print(\"Original summary:\",seq2summary(y_tr[i]))\n",
    "    test = x_tr[i].reshape(1,max_text_len)\n",
    "    test = np.tile(test, (max_text_len,1))\n",
    "    print(test.shape)\n",
    "    print(\"Predicted summary:\",decode_sequence(test))\n",
    "    print(\"\\n\")"
   ]
  },
  {
   "cell_type": "code",
   "execution_count": 1,
   "metadata": {},
   "outputs": [
    {
     "name": "stderr",
     "output_type": "stream",
     "text": [
      "2024-12-10 19:23:46.472818: I tensorflow/core/util/port.cc:153] oneDNN custom operations are on. You may see slightly different numerical results due to floating-point round-off errors from different computation orders. To turn them off, set the environment variable `TF_ENABLE_ONEDNN_OPTS=0`.\n",
      "2024-12-10 19:23:46.718532: E external/local_xla/xla/stream_executor/cuda/cuda_fft.cc:477] Unable to register cuFFT factory: Attempting to register factory for plugin cuFFT when one has already been registered\n",
      "WARNING: All log messages before absl::InitializeLog() is called are written to STDERR\n",
      "E0000 00:00:1733833426.823225   17994 cuda_dnn.cc:8310] Unable to register cuDNN factory: Attempting to register factory for plugin cuDNN when one has already been registered\n",
      "E0000 00:00:1733833426.871105   17994 cuda_blas.cc:1418] Unable to register cuBLAS factory: Attempting to register factory for plugin cuBLAS when one has already been registered\n",
      "2024-12-10 19:23:47.058726: I tensorflow/core/platform/cpu_feature_guard.cc:210] This TensorFlow binary is optimized to use available CPU instructions in performance-critical operations.\n",
      "To enable the following instructions: AVX2 AVX512F AVX512_VNNI FMA, in other operations, rebuild TensorFlow with the appropriate compiler flags.\n",
      "/usr/lib/python3/dist-packages/paramiko/pkey.py:82: CryptographyDeprecationWarning: TripleDES has been moved to cryptography.hazmat.decrepit.ciphers.algorithms.TripleDES and will be removed from this module in 48.0.0.\n",
      "  \"cipher\": algorithms.TripleDES,\n",
      "/usr/lib/python3/dist-packages/paramiko/transport.py:237: CryptographyDeprecationWarning: Blowfish has been moved to cryptography.hazmat.decrepit.ciphers.algorithms.Blowfish and will be removed from this module in 45.0.0.\n",
      "  \"class\": algorithms.Blowfish,\n",
      "/usr/lib/python3/dist-packages/paramiko/transport.py:261: CryptographyDeprecationWarning: TripleDES has been moved to cryptography.hazmat.decrepit.ciphers.algorithms.TripleDES and will be removed from this module in 48.0.0.\n",
      "  \"class\": algorithms.TripleDES,\n",
      "2024-12-10 19:41:33.095049: E external/local_xla/xla/stream_executor/cuda/cuda_driver.cc:152] failed call to cuInit: INTERNAL: CUDA error: Failed call to cuInit: UNKNOWN ERROR (303)\n",
      "/home/phu/.local/lib/python3.10/site-packages/keras/src/layers/rnn/rnn.py:204: UserWarning: Do not pass an `input_shape`/`input_dim` argument to a layer. When using Sequential models, prefer using an `Input(shape)` object as the first layer in the model instead.\n",
      "  super().__init__(**kwargs)\n"
     ]
    },
    {
     "name": "stdout",
     "output_type": "stream",
     "text": [
      "Epoch 1/30\n",
      "\u001b[1m8/8\u001b[0m \u001b[32m━━━━━━━━━━━━━━━━━━━━\u001b[0m\u001b[37m\u001b[0m \u001b[1m10s\u001b[0m 343ms/step - loss: 102.8440 - mae: 6.4595 - val_loss: 69.0488 - val_mae: 5.2899\n",
      "Epoch 2/30\n",
      "\u001b[1m8/8\u001b[0m \u001b[32m━━━━━━━━━━━━━━━━━━━━\u001b[0m\u001b[37m\u001b[0m \u001b[1m4s\u001b[0m 174ms/step - loss: 83.5997 - mae: 5.8069 - val_loss: 54.2002 - val_mae: 4.5921\n",
      "Epoch 3/30\n",
      "\u001b[1m8/8\u001b[0m \u001b[32m━━━━━━━━━━━━━━━━━━━━\u001b[0m\u001b[37m\u001b[0m \u001b[1m1s\u001b[0m 169ms/step - loss: 68.0828 - mae: 5.2576 - val_loss: 43.1147 - val_mae: 4.7170\n",
      "Epoch 4/30\n",
      "\u001b[1m8/8\u001b[0m \u001b[32m━━━━━━━━━━━━━━━━━━━━\u001b[0m\u001b[37m\u001b[0m \u001b[1m1s\u001b[0m 144ms/step - loss: 51.5126 - mae: 4.8659 - val_loss: 36.9399 - val_mae: 4.3866\n",
      "Epoch 5/30\n",
      "\u001b[1m8/8\u001b[0m \u001b[32m━━━━━━━━━━━━━━━━━━━━\u001b[0m\u001b[37m\u001b[0m \u001b[1m1s\u001b[0m 181ms/step - loss: 53.5657 - mae: 5.0580 - val_loss: 34.4446 - val_mae: 3.9573\n",
      "Epoch 6/30\n",
      "\u001b[1m8/8\u001b[0m \u001b[32m━━━━━━━━━━━━━━━━━━━━\u001b[0m\u001b[37m\u001b[0m \u001b[1m1s\u001b[0m 125ms/step - loss: 45.0861 - mae: 4.4247 - val_loss: 34.5794 - val_mae: 4.2903\n",
      "Epoch 7/30\n",
      "\u001b[1m8/8\u001b[0m \u001b[32m━━━━━━━━━━━━━━━━━━━━\u001b[0m\u001b[37m\u001b[0m \u001b[1m1s\u001b[0m 139ms/step - loss: 54.5988 - mae: 5.1563 - val_loss: 33.6319 - val_mae: 3.9107\n",
      "Epoch 8/30\n",
      "\u001b[1m8/8\u001b[0m \u001b[32m━━━━━━━━━━━━━━━━━━━━\u001b[0m\u001b[37m\u001b[0m \u001b[1m1s\u001b[0m 113ms/step - loss: 55.1819 - mae: 4.7022 - val_loss: 33.1966 - val_mae: 3.9931\n",
      "Epoch 9/30\n",
      "\u001b[1m8/8\u001b[0m \u001b[32m━━━━━━━━━━━━━━━━━━━━\u001b[0m\u001b[37m\u001b[0m \u001b[1m1s\u001b[0m 114ms/step - loss: 47.7717 - mae: 4.6680 - val_loss: 34.4667 - val_mae: 4.2974\n",
      "Epoch 10/30\n",
      "\u001b[1m8/8\u001b[0m \u001b[32m━━━━━━━━━━━━━━━━━━━━\u001b[0m\u001b[37m\u001b[0m \u001b[1m1s\u001b[0m 128ms/step - loss: 47.1425 - mae: 4.7602 - val_loss: 33.3686 - val_mae: 4.0903\n",
      "Epoch 11/30\n",
      "\u001b[1m8/8\u001b[0m \u001b[32m━━━━━━━━━━━━━━━━━━━━\u001b[0m\u001b[37m\u001b[0m \u001b[1m1s\u001b[0m 117ms/step - loss: 48.1403 - mae: 4.5973 - val_loss: 33.4892 - val_mae: 4.1146\n",
      "Epoch 12/30\n",
      "\u001b[1m8/8\u001b[0m \u001b[32m━━━━━━━━━━━━━━━━━━━━\u001b[0m\u001b[37m\u001b[0m \u001b[1m1s\u001b[0m 130ms/step - loss: 47.2765 - mae: 4.7237 - val_loss: 33.6207 - val_mae: 4.1412\n",
      "Epoch 13/30\n",
      "\u001b[1m8/8\u001b[0m \u001b[32m━━━━━━━━━━━━━━━━━━━━\u001b[0m\u001b[37m\u001b[0m \u001b[1m1s\u001b[0m 120ms/step - loss: 48.2853 - mae: 4.7689 - val_loss: 33.4139 - val_mae: 4.0879\n",
      "Epoch 14/30\n",
      "\u001b[1m8/8\u001b[0m \u001b[32m━━━━━━━━━━━━━━━━━━━━\u001b[0m\u001b[37m\u001b[0m \u001b[1m1s\u001b[0m 111ms/step - loss: 40.9517 - mae: 4.3365 - val_loss: 34.1531 - val_mae: 4.2240\n",
      "Epoch 15/30\n",
      "\u001b[1m8/8\u001b[0m \u001b[32m━━━━━━━━━━━━━━━━━━━━\u001b[0m\u001b[37m\u001b[0m \u001b[1m1s\u001b[0m 119ms/step - loss: 47.4212 - mae: 4.7330 - val_loss: 33.4883 - val_mae: 4.0704\n",
      "Epoch 16/30\n",
      "\u001b[1m8/8\u001b[0m \u001b[32m━━━━━━━━━━━━━━━━━━━━\u001b[0m\u001b[37m\u001b[0m \u001b[1m1s\u001b[0m 96ms/step - loss: 39.4519 - mae: 4.1714 - val_loss: 34.2848 - val_mae: 4.2417\n",
      "Epoch 17/30\n",
      "\u001b[1m8/8\u001b[0m \u001b[32m━━━━━━━━━━━━━━━━━━━━\u001b[0m\u001b[37m\u001b[0m \u001b[1m1s\u001b[0m 92ms/step - loss: 52.0426 - mae: 4.8538 - val_loss: 33.5149 - val_mae: 4.0859\n",
      "Epoch 18/30\n",
      "\u001b[1m8/8\u001b[0m \u001b[32m━━━━━━━━━━━━━━━━━━━━\u001b[0m\u001b[37m\u001b[0m \u001b[1m1s\u001b[0m 113ms/step - loss: 48.1923 - mae: 4.5841 - val_loss: 33.7666 - val_mae: 4.1410\n",
      "Epoch 19/30\n",
      "\u001b[1m8/8\u001b[0m \u001b[32m━━━━━━━━━━━━━━━━━━━━\u001b[0m\u001b[37m\u001b[0m \u001b[1m1s\u001b[0m 93ms/step - loss: 47.6787 - mae: 4.6458 - val_loss: 33.5539 - val_mae: 4.0907\n",
      "Epoch 20/30\n",
      "\u001b[1m8/8\u001b[0m \u001b[32m━━━━━━━━━━━━━━━━━━━━\u001b[0m\u001b[37m\u001b[0m \u001b[1m1s\u001b[0m 116ms/step - loss: 46.8002 - mae: 4.4992 - val_loss: 33.8471 - val_mae: 4.1480\n",
      "Epoch 21/30\n",
      "\u001b[1m8/8\u001b[0m \u001b[32m━━━━━━━━━━━━━━━━━━━━\u001b[0m\u001b[37m\u001b[0m \u001b[1m1s\u001b[0m 112ms/step - loss: 43.7236 - mae: 4.5086 - val_loss: 34.4302 - val_mae: 4.2345\n",
      "Epoch 22/30\n",
      "\u001b[1m8/8\u001b[0m \u001b[32m━━━━━━━━━━━━━━━━━━━━\u001b[0m\u001b[37m\u001b[0m \u001b[1m1s\u001b[0m 103ms/step - loss: 41.7581 - mae: 4.2805 - val_loss: 34.0210 - val_mae: 4.1553\n",
      "Epoch 23/30\n",
      "\u001b[1m8/8\u001b[0m \u001b[32m━━━━━━━━━━━━━━━━━━━━\u001b[0m\u001b[37m\u001b[0m \u001b[1m1s\u001b[0m 111ms/step - loss: 47.7527 - mae: 4.6804 - val_loss: 34.1463 - val_mae: 4.1693\n",
      "Epoch 24/30\n",
      "\u001b[1m8/8\u001b[0m \u001b[32m━━━━━━━━━━━━━━━━━━━━\u001b[0m\u001b[37m\u001b[0m \u001b[1m1s\u001b[0m 117ms/step - loss: 51.1675 - mae: 4.6037 - val_loss: 33.6904 - val_mae: 4.0344\n",
      "Epoch 25/30\n",
      "\u001b[1m8/8\u001b[0m \u001b[32m━━━━━━━━━━━━━━━━━━━━\u001b[0m\u001b[37m\u001b[0m \u001b[1m1s\u001b[0m 135ms/step - loss: 48.3560 - mae: 4.5578 - val_loss: 34.8431 - val_mae: 4.2805\n",
      "Epoch 26/30\n",
      "\u001b[1m8/8\u001b[0m \u001b[32m━━━━━━━━━━━━━━━━━━━━\u001b[0m\u001b[37m\u001b[0m \u001b[1m1s\u001b[0m 114ms/step - loss: 49.7408 - mae: 4.6808 - val_loss: 33.7378 - val_mae: 4.0763\n",
      "Epoch 27/30\n",
      "\u001b[1m8/8\u001b[0m \u001b[32m━━━━━━━━━━━━━━━━━━━━\u001b[0m\u001b[37m\u001b[0m \u001b[1m1s\u001b[0m 105ms/step - loss: 46.2848 - mae: 4.4970 - val_loss: 34.1961 - val_mae: 4.1785\n",
      "Epoch 28/30\n",
      "\u001b[1m8/8\u001b[0m \u001b[32m━━━━━━━━━━━━━━━━━━━━\u001b[0m\u001b[37m\u001b[0m \u001b[1m1s\u001b[0m 110ms/step - loss: 44.0021 - mae: 4.4890 - val_loss: 34.4132 - val_mae: 4.2017\n",
      "Epoch 29/30\n",
      "\u001b[1m8/8\u001b[0m \u001b[32m━━━━━━━━━━━━━━━━━━━━\u001b[0m\u001b[37m\u001b[0m \u001b[1m1s\u001b[0m 120ms/step - loss: 48.8755 - mae: 4.5619 - val_loss: 34.2893 - val_mae: 4.1707\n",
      "Epoch 30/30\n",
      "\u001b[1m8/8\u001b[0m \u001b[32m━━━━━━━━━━━━━━━━━━━━\u001b[0m\u001b[37m\u001b[0m \u001b[1m1s\u001b[0m 101ms/step - loss: 42.7278 - mae: 4.4202 - val_loss: 35.1589 - val_mae: 4.2776\n"
     ]
    },
    {
     "name": "stderr",
     "output_type": "stream",
     "text": [
      "WARNING:absl:You are saving your model as an HDF5 file via `model.save()` or `keras.saving.save_model(model)`. This file format is considered legacy. We recommend using instead the native Keras format, e.g. `model.save('my_model.keras')` or `keras.saving.save_model(model, 'my_model.keras')`. \n"
     ]
    },
    {
     "name": "stdout",
     "output_type": "stream",
     "text": [
      "Model saved at /home/phu/TextSummary/model_lstm.h5\n"
     ]
    }
   ],
   "source": [
    "import pandas as pd\n",
    "import re\n",
    "import numpy as np\n",
    "from rouge_score import rouge_scorer\n",
    "from tensorflow.keras.models import Sequential\n",
    "from tensorflow.keras.layers import LSTM, Dense, Bidirectional, Dropout,Embedding\n",
    "from sklearn.metrics.pairwise import cosine_similarity\n",
    "import nltk\n",
    "from sklearn.model_selection import train_test_split\n",
    "from bs4 import BeautifulSoup\n",
    "from gensim.models import Word2Vec, KeyedVectors\n",
    "from sklearn.cluster import KMeans\n",
    "from gensim.models import KeyedVectors\n",
    "from pyvi import ViTokenizer\n",
    "from sklearn.metrics import pairwise_distances_argmin_min\n",
    "from sklearn.feature_extraction.text import TfidfVectorizer\n",
    "from sklearn.metrics.pairwise import cosine_similarity\n",
    "import numpy as np\n",
    "from collections import Counter\n",
    "\n",
    "def load_excel_data(file_path):\n",
    "    df = pd.read_excel(file_path)\n",
    "    return df\n",
    "\n",
    "def sentences_split(text):\n",
    "    sentences = nltk.sent_tokenize(text)\n",
    "    return sentences\n",
    "\n",
    "def get_stopwords(file_stop_words):\n",
    "    with open(file_stop_words, encoding='utf-8') as f:\n",
    "        stop_words = f.read()\n",
    "    stop_words = stop_words.split(\"\\n\")\n",
    "    return stop_words\n",
    "\n",
    "def process_text(text, stop_words):\n",
    "    newString = text.lower()\n",
    "    newString = re.sub(r'\\(.*?\\)', '', newString)\n",
    "    newString = re.sub(r'\\[.*?\\]', '', newString)\n",
    "    newString = re.sub(r'\\{.*?\\}', '', newString)\n",
    "    newString = re.sub(r'\"([^\"]*)\"', '', newString)\n",
    "    newString = re.sub('\"', '', newString)\n",
    "    newString = re.sub(r'\\([^)]*\\)', '', newString)\n",
    "    newString = re.sub(r'\\.{2,}', '.', newString)    \n",
    "    words = newString.split()\n",
    "    words = [word for word in words if word not in stop_words]\n",
    "    return ' '.join(words)\n",
    "\n",
    "\n",
    "def sentencesVector(sentences, stop_words):\n",
    "    w2v = KeyedVectors.load_word2vec_format(\"/home/phu/TextSummary/viet_vec/vi.vec\")\n",
    "    vocab = w2v.index_to_key \n",
    "    X = []\n",
    "    for sentence in sentences:\n",
    "        sentence_tokenized = ViTokenizer.tokenize(sentence)\n",
    "        words = sentence_tokenized.split(\" \")\n",
    "        sentence_vec = np.zeros((100))\n",
    "        for word in words:\n",
    "            if word in vocab and word not in stop_words:\n",
    "                sentence_vec += w2v[word]\n",
    "        X.append(sentence_vec)\n",
    "    return X\n",
    "\n",
    "\n",
    "def sentences_clusters(X):\n",
    "    n_clusters = 4\n",
    "    kmeans = KMeans(n_clusters=n_clusters) \n",
    "    kmeans = kmeans.fit(X)\n",
    "    return kmeans\n",
    "\n",
    "# def buildSummary(kmeans, X, sentences): \n",
    "#     n_clusters = 5\n",
    "#     avg = [] \n",
    "#     for j in range(n_clusters):\n",
    "#         idx = np.where(kmeans.labels_ == j)[0]\n",
    "#         avg.append(np.mean(idx))\n",
    "#     closest, _ = pairwise_distances_argmin_min(kmeans.cluster_centers_, X)\n",
    "#     ordering = sorted(range(n_clusters), key=lambda k: avg[k])\n",
    "#     summary = ' '.join([sentences[closest[idx]] for idx in ordering])\n",
    "#     return summary\n",
    "\n",
    "def compute_similarity(original_text, summary_text):\n",
    "    vectorizer = TfidfVectorizer()\n",
    "    tfidf_matrix = vectorizer.fit_transform([original_text, summary_text])\n",
    "    similarity_matrix = cosine_similarity(tfidf_matrix[0:1], tfidf_matrix[1:2])\n",
    "    return similarity_matrix[0][0]\n",
    "\n",
    "from tensorflow.keras.models import load_model\n",
    "import os\n",
    "\n",
    "def train_and_save_model(file_path, stop_words_path, model_path, epochs=30, batch_size=32):\n",
    "    # Đọc dữ liệu từ file\n",
    "    df = pd.read_excel(file_path)\n",
    "    texts = df['Text'].tolist()\n",
    "    summaries = df['Summary'].tolist()\n",
    "\n",
    "    # Tải stop words\n",
    "    stop_words = get_stopwords(stop_words_path)\n",
    "\n",
    "    # Tiền xử lý văn bản\n",
    "    processed_texts = [process_text(text, stop_words) for text in texts]\n",
    "    processed_summaries = [process_text(summary, stop_words) for summary in summaries]\n",
    "\n",
    "    # Tách câu\n",
    "    tokenized_texts = [sentences_split(text) for text in processed_texts]\n",
    "    tokenized_summaries = [sentences_split(summary) for summary in processed_summaries]\n",
    "\n",
    "    # Vector hóa câu\n",
    "    X = [sentencesVector(sentences, stop_words) for sentences in tokenized_texts]\n",
    "    Y = [sentencesVector(sentences, stop_words) for sentences in tokenized_summaries]\n",
    "\n",
    "    # Chuyển đổi X và Y thành numpy array\n",
    "    X = np.array([np.mean(vec, axis=0) for vec in X])  # Trung bình vector của mỗi câu\n",
    "    Y = np.array([np.mean(vec, axis=0) for vec in Y])\n",
    "\n",
    "    # Chia dữ liệu thành tập huấn luyện và tập kiểm tra\n",
    "    X_train, X_test, Y_train, Y_test = train_test_split(X, Y, test_size=0.2, random_state=42)\n",
    "\n",
    "    # Xây dựng mô hình LSTM\n",
    "    model = Sequential()\n",
    "    model.add(LSTM(128, input_shape=(X_train.shape[1], 1), return_sequences=False))\n",
    "    model.add(Dense(100, activation='relu'))\n",
    "    model.add(Dense(100, activation='relu'))\n",
    "    model.add(Dense(100, activation='relu'))\n",
    "    model.add(Dense(100, activation='relu'))\n",
    "    model.add(Dropout(0.2))\n",
    "    model.add(Dense(Y_train.shape[1]))\n",
    "    model.compile(optimizer='adam', loss='mse', metrics=['mae'])\n",
    "\n",
    "    # Huấn luyện mô hình\n",
    "    model.fit(X_train, Y_train, epochs=epochs, batch_size=batch_size, validation_data=(X_test, Y_test))\n",
    "\n",
    "    # Lưu mô hình sau khi huấn luyện\n",
    "    model.save(model_path)\n",
    "    print(f\"Model saved at {model_path}\")\n",
    "    \n",
    "train_and_save_model(\n",
    "    file_path=\"/home/phu/TextSummary/NLP/dataset/clean.xlsx\",\n",
    "    stop_words_path=\"/home/phu/TextSummary/stopwords.txt\",\n",
    "    model_path=\"/home/phu/TextSummary/model_lstm.h5\"\n",
    ")\n"
   ]
  },
  {
   "cell_type": "code",
   "execution_count": 6,
   "metadata": {},
   "outputs": [],
   "source": [
    "from tensorflow.keras.metrics import MeanSquaredError\n",
    "\n",
    "def test_model(model_path, test_text, stop_words_path):\n",
    "    # Tải mô hình đã lưu\n",
    "    model = load_model(model_path, custom_objects={'mse': MeanSquaredError()})\n",
    "    \n",
    "    # Tải stop words\n",
    "    stop_words = get_stopwords(stop_words_path)\n",
    "    \n",
    "    # Tiền xử lý văn bản đầu vào\n",
    "    processed_text = process_text(test_text, stop_words)\n",
    "    \n",
    "    # Tách câu\n",
    "    tokenized_sentences = sentences_split(processed_text)\n",
    "    \n",
    "    # Vector hóa câu\n",
    "    sentence_vectors = sentencesVector(tokenized_sentences, stop_words)\n",
    "    \n",
    "    # Chuyển đổi thành numpy array\n",
    "    input_vector = np.array([np.mean(sentence_vectors, axis=0)])  # Trung bình vector của mỗi câu\n",
    "    \n",
    "    # Dự đoán tóm tắt\n",
    "    predicted_summary_vector = model.predict(input_vector)\n",
    "    \n",
    "    # Chuyển vector dự đoán thành câu (nếu cần)\n",
    "    # Để chuyển đổi ngược từ vector thành văn bản, bạn có thể cần sử dụng Word2Vec hoặc các phương pháp khác\n",
    "    \n",
    "    return predicted_summary_vector\n"
   ]
  },
  {
   "cell_type": "code",
   "execution_count": 7,
   "metadata": {},
   "outputs": [
    {
     "name": "stderr",
     "output_type": "stream",
     "text": [
      "WARNING:absl:Compiled the loaded model, but the compiled metrics have yet to be built. `model.compile_metrics` will be empty until you train or evaluate the model.\n"
     ]
    },
    {
     "name": "stdout",
     "output_type": "stream",
     "text": [
      "\u001b[1m1/1\u001b[0m \u001b[32m━━━━━━━━━━━━━━━━━━━━\u001b[0m\u001b[37m\u001b[0m \u001b[1m0s\u001b[0m 387ms/step\n",
      "Predicted Summary Vector: [[ -0.4464026    5.421645    -0.13365822   1.0273235    6.6817937\n",
      "   -3.890438    -2.570472     2.4842787   -6.452278     8.997429\n",
      "   -4.221452     3.974446     0.10003828  -6.9199224   -8.963864\n",
      "    2.686911   -10.360041    -8.530114    15.521974    -4.0306726\n",
      "    1.0624844    4.6274095   -4.0746007   -0.09103265 -10.196865\n",
      "    5.574452     6.5963116   -3.145442    -0.44569653   1.0170652\n",
      "   -4.847315     0.6115204    1.8943576   -4.041407     5.857886\n",
      "   -4.5187874   -4.291761     4.4393883   -5.4163284   -0.5851571\n",
      "    1.3084642   -1.4493437   -5.2996626   -2.695368    -3.6587539\n",
      "  -21.692377     1.176673   -13.277483     0.34399685   5.980581\n",
      "   -3.3474913   -4.7816486    5.222465    -6.5798945    5.3650866\n",
      "  -10.002558     0.32048553   4.721474     7.316095   -13.107717\n",
      "   -3.136981     7.9700556   -4.639115     0.09022091  -6.998413\n",
      "    7.4179077   -8.66989      9.677068     2.5438194    6.5646176\n",
      "    3.1846492   -8.28479    -15.151457     6.3337207    2.0332112\n",
      "   -4.9586       3.080488     5.0071936    5.594045     7.4769025\n",
      "    5.671448    -3.063827    -0.4607463    2.7407775   -6.842019\n",
      "   -7.1808715   -0.35997897   2.3789566   -0.947909   -11.008363\n",
      "   16.949617     1.4038943    8.174223     0.5243735   -0.8825866\n",
      "   15.945219    -1.6677976    0.8699154   -5.384318   -15.085038  ]]\n"
     ]
    }
   ],
   "source": [
    "test_text = \"\"\"\n",
    "    Đây là một đoạn văn bản mẫu để kiểm tra mô hình tóm tắt văn bản. \n",
    "    Đoạn văn này có nội dung khá đơn giản và có thể được dùng để kiểm tra tính chính xác của mô hình.\n",
    "    \"\"\"\n",
    "predicted_summary = test_model(\n",
    "    model_path=\"/home/phu/TextSummary/model_lstm.h5\",\n",
    "    test_text=test_text,\n",
    "    stop_words_path=\"/home/phu/TextSummary/stopwords.txt\"\n",
    ")\n",
    "\n",
    "print(\"Predicted Summary Vector:\", predicted_summary)\n"
   ]
  },
  {
   "cell_type": "code",
   "execution_count": null,
   "metadata": {},
   "outputs": [],
   "source": []
  },
  {
   "cell_type": "code",
   "execution_count": null,
   "metadata": {},
   "outputs": [],
   "source": []
  },
  {
   "cell_type": "code",
   "execution_count": null,
   "metadata": {},
   "outputs": [],
   "source": []
  }
 ],
 "metadata": {
  "kernelspec": {
   "display_name": "Python 3",
   "language": "python",
   "name": "python3"
  },
  "language_info": {
   "codemirror_mode": {
    "name": "ipython",
    "version": 3
   },
   "file_extension": ".py",
   "mimetype": "text/x-python",
   "name": "python",
   "nbconvert_exporter": "python",
   "pygments_lexer": "ipython3",
   "version": "3.10.12"
  }
 },
 "nbformat": 4,
 "nbformat_minor": 2
}
