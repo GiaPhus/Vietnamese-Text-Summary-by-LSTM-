{
 "cells": [
  {
   "cell_type": "code",
   "execution_count": 5,
   "metadata": {},
   "outputs": [
    {
     "name": "stdout",
     "output_type": "stream",
     "text": [
      "Start\n",
      "10088\n"
     ]
    }
   ],
   "source": [
    "\n",
    "print(\"Start\")\n",
    "\n",
    "import gensim \n",
    "from gensim.models import KeyedVectors\n",
    "w2v_model = KeyedVectors.load_word2vec_format(\"/home/phu/TextSummary/viet_vec/vi.vec\")\n",
    "\n",
    "\n",
    "vocabulary = []\n",
    "for word in  w2v_model.index_to_key :\n",
    "    vocabulary.append(word)\n",
    "print(len(vocabulary))"
   ]
  },
  {
   "cell_type": "code",
   "execution_count": 6,
   "metadata": {},
   "outputs": [],
   "source": [
    "content = \"\"\"\n",
    "iPhone Pro 11 Max đang chạy hệ điều hành iOS 13 mới nhất của Apple. Về hiệu năng, iPhone 11 Pro Max là iPhone mạnh nhất hiện nay. Điểm Geekbench của iPhone 11 Pro Max là 3420, con số này thể hiện rằng 11 Pro Max mạnh hơn khoảng 10% so với iPhone 11 và hơn 20% so với iPhone XS Max.\n",
    "Nhưng đây chỉ là những con số, còn hiệu năng thực tế của iPhone 11 Pro Max khi sử dụng hàng ngày thì sao? Thật khó để có thể khiến iPhone chậm đi, bởi vì máy có tốc độ khởi động ứng dụng rất nhanh và bạn có thể sử dụng chúng ngay lập tức.\n",
    "Tuy nhiên, camera là ứng dụng duy nhất iPhone thể hiện sự chậm chạp, phải mất một giây để tải ứng dụng (đôi khi nó có thể bị đứng). Khi bạn chụp ảnh bằng ống kính siêu rộng xem, hình ảnh cũng không xuất hiện ngay lập tức khi nhấn nút chụp.\n",
    "Tải ảnh để chỉnh sửa cũng mất một hoặc hai giây, cũng như một số thao tác lưu hình ảnh. Chúng tôi đánh giá cao việc iPhone có thể chịu được một lượng lớn hình ảnh được xử lý. Tuy nhiên, chúng tôi mong đợi mọi thứ sẽ nhanh hơn một chút, thay vì phải để xem một bánh xe quay quay trong quá trình xử lý. Thêm nữa, khi xem một bộ phim được tải về và tua đến một cảnh tùy ý thì iPhone lại bị đứng.\n",
    "Mỗi năm một lần, hội rước đèn đêm Trung thu ở xã em diễn ra tại sân vận động của xã rất từng bừng, náo nhiệt.\n",
    "Tối mười bốn tháng tám âm lịch, trên bãi sân rộng, thiếu nhi trong xã xếp hàng từng đội theo xóm. Tay bạn nào cũng cầm theo một cái lồng đèn được mua hoặc tự làm hay ống tre làm thành đuốc. Ban tổ chức gọi tổ trưởng lên bàn nhận bánh kẹo về cho tổ mình. Sau khi tổ trưởng phát xong kẹo bánh, có vài tiết mục văn nghệ “Cây nhà lá vườn” diễn ra ở sân rộng, thiếu niên nhi đồng vỗ tay theo nhịp, ủng hộ những nghệ sĩ không chuyên nghiệp của xã nhà. Tiếp đó là lệnh đốt nến. Tất cả các lồng đèn, đuốc được thắp sáng. Lúc bấy giờ sân bãi đẹp lung linh, kì ảo với hàng trăm ánh nến xanh, vàng, đỏ và ánh hồng của cây đuốc làm bằng ống tre. Lễ rước đèn Trung thu bắt đầu bằng bài hát “Rước đèn Trung thu”. Thiếu nhi vừa cầm lồng đèn, vừa hát “Tết Trung thu...”. Đoàn rước đèn đi một vòng quanh xã. Các cô chú Đội sản xuất và các anh chị Thanh niên xã đoàn đi kèm thiếu nhi đều giữ hàng ngũ ngay ngắn, trật tự, vừa tạo mĩ quan của hội rước đèn, vừa coi sóc phòng cháy (do đốt đèn nến và đuốc nên phải tăng cường phòng vệ, trông coi). Dọc đường, có bạn cầm lồng đèn từ trong nhà chạy ra nhập vào đoàn thiếu nhi đang “rồng rắn” rước đèn. Trên đường về, bạn nàonhà gần đường đi rước đèn có thể tách hàng về nhà. Trăng lúc này đã lên cao, tròn vành vạnh soi ánh vàng trong trẻo xuống mặt đất. Đoàn thiếu nhi vừa đi, vừa hát trở lại chỗ xuất phát. Các anh chị xã đoàn bắt nhịp bài hát \"Như có Bác trong ngày đại thắng”. Kết thúc ngày hội, chúng em chia tay nhau và ra về.\n",
    "Buổi lễ rước đèn là sinh hoạt rất vui của thiếu nhi xã em và đã trở thành thông lệ không thể thiếu trong ngày lễ Trung Thu. Em rất yêu quê và yêu ngày hội Trung thu ở quê hương mình.\n",
    "\"\"\""
   ]
  },
  {
   "cell_type": "code",
   "execution_count": 7,
   "metadata": {},
   "outputs": [],
   "source": [
    "\n",
    "contents_parsed = content.lower() \n",
    "contents_parsed = contents_parsed.replace('\\n', ' ')\n",
    "contents_parsed = contents_parsed.strip() "
   ]
  },
  {
   "cell_type": "code",
   "execution_count": 8,
   "metadata": {},
   "outputs": [],
   "source": [
    "import nltk\n",
    "sentences = nltk.sent_tokenize(contents_parsed)"
   ]
  },
  {
   "cell_type": "code",
   "execution_count": 9,
   "metadata": {},
   "outputs": [
    {
     "name": "stdout",
     "output_type": "stream",
     "text": [
      "['0', '1', '2', '3', '4', '5', '6', '7', '8', '9', '10', '11', '12', '13', '14', '15', '16', '17', '18', '19', '20', '21', '22', '23', '24', '25', '26', '27', '28', '29', '30']\n"
     ]
    }
   ],
   "source": [
    "keys = []\n",
    "for i in range(len(sentences)):\n",
    "    keys.append(str(i))\n",
    "print(keys)"
   ]
  },
  {
   "cell_type": "code",
   "execution_count": 11,
   "metadata": {},
   "outputs": [],
   "source": [
    "from pyvi import ViTokenizer\n",
    "import numpy as np\n",
    "\n",
    "embedding_clusters = []\n",
    "sent_clusters = []\n",
    "i = 0\n",
    "for sentence in sentences:\n",
    "    embeddings = []\n",
    "    sent = []\n",
    "        \n",
    "    sentence = gensim.utils.simple_preprocess(sentence)\n",
    "    sentence = ' '.join(sentence)\n",
    "    sentence_tokenized = ViTokenizer.tokenize(sentence)\n",
    "    \n",
    "    words = sentence_tokenized.split(\" \")\n",
    "    sentence_vec = np.zeros((100))\n",
    "    for word in words:\n",
    "        if word in vocabulary:\n",
    "            sentence_vec+=w2v_model[word]\n",
    "    embeddings.append(sentence_vec)\n",
    "            \n",
    "    sent.append(str(i))\n",
    "    \n",
    "    embedding_clusters.append(embeddings)\n",
    "    sent_clusters.append(sent)\n",
    "    \n",
    "    i+=1"
   ]
  },
  {
   "cell_type": "code",
   "execution_count": 12,
   "metadata": {},
   "outputs": [
    {
     "name": "stdout",
     "output_type": "stream",
     "text": [
      "[['0'], ['1'], ['2'], ['3'], ['4'], ['5'], ['6'], ['7'], ['8'], ['9'], ['10'], ['11'], ['12'], ['13'], ['14'], ['15'], ['16'], ['17'], ['18'], ['19'], ['20'], ['21'], ['22'], ['23'], ['24'], ['25'], ['26'], ['27'], ['28'], ['29'], ['30']]\n"
     ]
    }
   ],
   "source": [
    "print(sent_clusters)\n"
   ]
  },
  {
   "cell_type": "code",
   "execution_count": 13,
   "metadata": {},
   "outputs": [
    {
     "name": "stdout",
     "output_type": "stream",
     "text": [
      "(31, 1, 100)\n"
     ]
    },
    {
     "name": "stderr",
     "output_type": "stream",
     "text": [
      "/usr/local/lib/python3.10/dist-packages/sklearn/manifold/_t_sne.py:1162: FutureWarning: 'n_iter' was renamed to 'max_iter' in version 1.5 and will be removed in 1.7.\n",
      "  warnings.warn(\n",
      "/tmp/ipykernel_64836/1742043203.py:26: UserWarning: No artists with labels found to put in legend.  Note that artists whose label start with an underscore are ignored when legend() is called with no argument.\n",
      "  plt.legend(loc=4)\n"
     ]
    },
    {
     "data": {
      "image/png": "[encoded data removed]",
      "text/plain": [
       "<Figure size 1500x800 with 1 Axes>"
      ]
     },
     "metadata": {},
     "output_type": "display_data"
    }
   ],
   "source": [
    "from sklearn.manifold import TSNE\n",
    "import numpy as np\n",
    "\n",
    "embedding_clusters = np.array(embedding_clusters)\n",
    "print(embedding_clusters.shape)\n",
    "n, m, k = embedding_clusters.shape\n",
    "tsne_model_en_2d = TSNE(perplexity=15, n_components=2, init='pca', n_iter=3500, random_state=32)\n",
    "embeddings_en_2d = np.array(tsne_model_en_2d.fit_transform(embedding_clusters.reshape(n * m, k))).reshape(n, m, 2)\n",
    "\n",
    "\n",
    "import matplotlib.pyplot as plt\n",
    "import matplotlib.cm as cm\n",
    "# % matplotlib inline\n",
    "\n",
    "\n",
    "def tsne_plot_similar_words(title, labels, embedding_clusters, sent_clusters, a, filename=None):\n",
    "    plt.figure(figsize=(15, 8))\n",
    "    colors = cm.rainbow(np.linspace(0, 1, len(labels)))\n",
    "    for label, embeddings, words, color in zip(labels, embedding_clusters, sent_clusters, colors):\n",
    "        x = embeddings[:, 0]\n",
    "        y = embeddings[:, 1]\n",
    "        plt.scatter(x, y, c=np.array([color,]), alpha=a)\n",
    "        for i, word in enumerate(words):\n",
    "            plt.annotate(word, alpha=0.5, xy=(x[i], y[i]), xytext=(5, 2),\n",
    "                         textcoords='offset points', ha='right', va='bottom', size=12)\n",
    "    plt.legend(loc=4)\n",
    "    plt.title(title)\n",
    "    plt.grid(True)\n",
    "    if filename:\n",
    "        plt.savefig(filename, format='png', dpi=150, bbox_inches='tight')\n",
    "    plt.show()\n",
    "\n",
    "\n",
    "tsne_plot_similar_words('Phân bố các câu trong đoạn văn', keys, embeddings_en_2d, sent_clusters, 0.7,\n",
    "                        'output.png')"
   ]
  },
  {
   "cell_type": "code",
   "execution_count": 15,
   "metadata": {},
   "outputs": [
    {
     "name": "stdout",
     "output_type": "stream",
     "text": [
      "iphone pro max đang chạy hệ điều_hành ios mới nhất của apple\n",
      "về hiệu_năng iphone pro max là iphone mạnh nhất hiện_nay\n",
      "điểm geekbench của iphone pro max là con_số này thể_hiện rằng pro max mạnh hơn khoảng so với iphone và hơn so với iphone xs max\n",
      "nhưng đây chỉ là những con_số còn hiệu_năng thực_tế của iphone pro max khi sử_dụng hàng ngày thì sao\n",
      "thật khó để có_thể khiến iphone chậm đi bởi_vì máy có tốc_độ khởi_động ứng_dụng rất nhanh và bạn có_thể sử_dụng chúng ngay lập_tức\n",
      "tuy_nhiên camera là ứng_dụng duy_nhất iphone thể_hiện sự chậm_chạp phải mất một giây để tải ứng_dụng đôi_khi nó có_thể bị đứng\n",
      "khi bạn chụp ảnh bằng ống_kính siêu rộng xem hình_ảnh cũng không xuất_hiện ngay lập_tức khi nhấn nút chụp\n",
      "tải ảnh để chỉnh_sửa cũng mất một hoặc hai giây cũng như một số thao_tác lưu hình_ảnh\n",
      "chúng_tôi đánh_giá cao việc iphone có_thể chịu được một lượng lớn hình_ảnh được xử_lý\n",
      "tuy_nhiên chúng_tôi mong_đợi mọi thứ sẽ nhanh hơn một_chút thay_vì phải để xem một bánh_xe quay quay trong quá_trình xử_lý\n",
      "thêm nữa khi xem một bộ phim được tải về và tua đến một cảnh tùy thì iphone lại bị đứng\n",
      "mỗi năm một lần hội rước đèn đêm trung_thu xã em diễn ra tại sân vận_động của xã rất từng bừng náo_nhiệt\n",
      "tối mười bốn tháng tám âm_lịch trên bãi sân rộng thiếu_nhi trong xã xếp_hàng từng đội theo xóm\n",
      "tay bạn nào cũng cầm theo một cái lồng đèn được mua hoặc tự làm hay ống tre làm thành đuốc\n",
      "ban tổ_chức gọi tổ_trưởng lên bàn nhận bánh kẹo về cho tổ mình\n",
      "sau khi tổ_trưởng phát xong kẹo bánh có vài tiết_mục văn_nghệ cây nhà lá vườn diễn ra sân rộng thiếu_niên nhi_đồng vỗ_tay theo nhịp ủng_hộ những nghệ_sĩ không chuyên_nghiệp của xã nhà\n",
      "tiếp đó là lệnh đốt nến\n",
      "tất_cả các lồng đèn_đuốc được thắp sáng\n",
      "lúc bấy_giờ sân bãi đẹp lung_linh kì_ảo với hàng trăm ánh nến xanh vàng đỏ và ánh hồng của cây đuốc làm bằng ống tre\n",
      "lễ rước đèn trung_thu bắt_đầu bằng bài hát rước đèn trung_thu\n",
      "thiếu_nhi vừa cầm lồng đèn vừa hát tết trung_thu\n",
      "đoàn rước đèn đi một vòng_quanh xã\n",
      "các cô chú đội sản_xuất và các anh_chị thanh_niên xã_đoàn đi kèm thiếu_nhi đều giữ hàng_ngũ ngay_ngắn trật_tự vừa tạo mĩ_quan của hội rước đèn vừa coi_sóc phòng cháy do đốt đèn nến và đuốc nên phải tăng_cường phòng_vệ trông_coi\n",
      "dọc đường có bạn cầm lồng đèn từ trong nhà chạy ra nhập vào đoàn thiếu_nhi đang rồng_rắn rước đèn\n",
      "trên đường về bạn nàonhà gần đường đi rước đèn có_thể tách hàng về nhà\n",
      "trăng lúc này đã lên cao tròn vành_vạnh soi ánh vàng trong trẻo xuống mặt_đất\n",
      "đoàn thiếu_nhi vừa đi vừa hát trở_lại chỗ xuất_phát\n",
      "các anh_chị xã_đoàn bắt_nhịp bài hát như có bác trong ngày đại_thắng\n",
      "kết_thúc ngày hội chúng em chia_tay nhau và ra về\n",
      "buổi lễ rước đèn là sinh_hoạt rất vui của thiếu_nhi xã em và đã trở_thành thông_lệ không_thể thiếu trong ngày lễ trung_thu\n",
      "em rất yêu quê và yêu ngày hội trung_thu quê_hương mình\n"
     ]
    }
   ],
   "source": [
    "X = []\n",
    "for sentence in sentences:\n",
    "    \n",
    "    sentence = gensim.utils.simple_preprocess(sentence)\n",
    "    sentence = ' '.join(sentence)\n",
    "    sentence_tokenized = ViTokenizer.tokenize(sentence)\n",
    "    print(sentence_tokenized)\n",
    "    words = sentence_tokenized.split(\" \")\n",
    "    sentence_vec = np.zeros((100))\n",
    "    for word in words:\n",
    "        if word in vocabulary:\n",
    "            sentence_vec+=w2v_model[word]\n",
    "    X.append(sentence_vec)"
   ]
  },
  {
   "cell_type": "code",
   "execution_count": 16,
   "metadata": {},
   "outputs": [],
   "source": [
    "from sklearn.cluster import KMeans\n",
    "\n",
    "n_clusters = 5\n",
    "kmeans = KMeans(n_clusters=n_clusters)\n",
    "kmeans = kmeans.fit(X)"
   ]
  },
  {
   "cell_type": "code",
   "execution_count": 17,
   "metadata": {},
   "outputs": [],
   "source": [
    "from sklearn.metrics import pairwise_distances_argmin_min\n",
    "\n",
    "avg = []\n",
    "for j in range(n_clusters):\n",
    "    idx = np.where(kmeans.labels_ == j)[0]\n",
    "    avg.append(np.mean(idx))\n",
    "closest, _ = pairwise_distances_argmin_min(kmeans.cluster_centers_, X)\n",
    "ordering = sorted(range(n_clusters), key=lambda k: avg[k])\n",
    "summary = ' '.join([sentences[closest[idx]] for idx in ordering])"
   ]
  },
  {
   "cell_type": "code",
   "execution_count": 18,
   "metadata": {},
   "outputs": [
    {
     "name": "stdout",
     "output_type": "stream",
     "text": [
      "tuy nhiên, camera là ứng dụng duy nhất iphone thể hiện sự chậm chạp, phải mất một giây để tải ứng dụng (đôi khi nó có thể bị đứng). mỗi năm một lần, hội rước đèn đêm trung thu ở xã em diễn ra tại sân vận động của xã rất từng bừng, náo nhiệt. các anh chị xã đoàn bắt nhịp bài hát \"như có bác trong ngày đại thắng”. lúc bấy giờ sân bãi đẹp lung linh, kì ảo với hàng trăm ánh nến xanh, vàng, đỏ và ánh hồng của cây đuốc làm bằng ống tre. buổi lễ rước đèn là sinh hoạt rất vui của thiếu nhi xã em và đã trở thành thông lệ không thể thiếu trong ngày lễ trung thu.\n"
     ]
    }
   ],
   "source": [
    "print(summary)\n"
   ]
  },
  {
   "cell_type": "code",
   "execution_count": 19,
   "metadata": {},
   "outputs": [
    {
     "name": "stdout",
     "output_type": "stream",
     "text": [
      "[2 2 0 0 0 0 0 0 0 0 0 4 4 1 2 4 2 2 1 2 2 2 3 1 2 2 2 2 2 4 2]\n",
      "\n",
      "*** Using Hierarchical clustering and finding the center cluster by Kmean:\n",
      "\n",
      "tuy nhiên, camera là ứng dụng duy nhất iphone thể hiện sự chậm chạp, phải mất một giây để tải ứng dụng (đôi khi nó có thể bị đứng). mỗi năm một lần, hội rước đèn đêm trung thu ở xã em diễn ra tại sân vận động của xã rất từng bừng, náo nhiệt. các anh chị xã đoàn bắt nhịp bài hát \"như có bác trong ngày đại thắng”. lúc bấy giờ sân bãi đẹp lung linh, kì ảo với hàng trăm ánh nến xanh, vàng, đỏ và ánh hồng của cây đuốc làm bằng ống tre. buổi lễ rước đèn là sinh hoạt rất vui của thiếu nhi xã em và đã trở thành thông lệ không thể thiếu trong ngày lễ trung thu.\n"
     ]
    }
   ],
   "source": [
    "from sklearn.cluster import AgglomerativeClustering\n",
    "\n",
    "n_clusters_kmean = 5\n",
    "\n",
    "## ======== hierarchical clustering =========\n",
    "n_clusters_hierarchy = 5  # number of regions\n",
    "ward = AgglomerativeClustering(n_clusters=n_clusters_hierarchy)\n",
    "ward = ward.fit(X)\n",
    "print(ward.labels_)\n",
    "\n",
    "# ======== Determining the closest point to the center of each cluster\n",
    "X_Clusters = []\n",
    "idx_cluster = [] \n",
    "for j in range(n_clusters_kmean):\n",
    "    idx = np.where(ward.labels_ == j)[0]  # List of element in each cluster\n",
    "    cluster_elements = []\n",
    "    for k in range(len(idx)):\n",
    "        cluster_elements.append(X[idx[k]])\n",
    "    idx_cluster.append(idx)\n",
    "    X_Clusters.append(cluster_elements)\n",
    "\n",
    "hierarchical_summary = []\n",
    "avg1 = []\n",
    "for j in range(len(X_Clusters)):\n",
    "    kmeans1 = KMeans(n_clusters = 1)\n",
    "    kmeans1 = kmeans1.fit(X_Clusters[j])\n",
    "\n",
    "    idx1 = np.where(kmeans1.labels_ == 0)[0]\n",
    "    avg1.append(np.mean(idx1))\n",
    "\n",
    "    closest1, _ = pairwise_distances_argmin_min(kmeans1.cluster_centers_, X_Clusters[j])\n",
    "    hierarchical_summary.append(' ' + (sentences[idx_cluster[j][closest1[0]]]))\n",
    "\n",
    "ordering1 = sorted(range(n_clusters_hierarchy), key=lambda k: avg1[k])\n",
    "sumary2 = ' '.join([sentences[closest[idx]] for idx in ordering])\n",
    "\n",
    "print(\"\\n*** Using Hierarchical clustering and finding the center cluster by Kmean:\\n\")\n",
    "print(sumary2)"
   ]
  },
  {
   "cell_type": "code",
   "execution_count": null,
   "metadata": {},
   "outputs": [],
   "source": []
  }
 ],
 "metadata": {
  "kernelspec": {
   "display_name": "Python 3",
   "language": "python",
   "name": "python3"
  },
  "language_info": {
   "codemirror_mode": {
    "name": "ipython",
    "version": 3
   },
   "file_extension": ".py",
   "mimetype": "text/x-python",
   "name": "python",
   "nbconvert_exporter": "python",
   "pygments_lexer": "ipython3",
   "version": "3.10.12"
  }
 },
 "nbformat": 4,
 "nbformat_minor": 2
}
