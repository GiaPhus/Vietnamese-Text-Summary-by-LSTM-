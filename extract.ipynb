{
 "cells": [
  {
   "cell_type": "code",
   "execution_count": 1,
   "metadata": {},
   "outputs": [
    {
     "name": "stderr",
     "output_type": "stream",
     "text": [
      "2024-11-28 19:22:25.303504: I tensorflow/core/util/port.cc:153] oneDNN custom operations are on. You may see slightly different numerical results due to floating-point round-off errors from different computation orders. To turn them off, set the environment variable `TF_ENABLE_ONEDNN_OPTS=0`.\n",
      "2024-11-28 19:22:25.319237: E external/local_xla/xla/stream_executor/cuda/cuda_fft.cc:477] Unable to register cuFFT factory: Attempting to register factory for plugin cuFFT when one has already been registered\n",
      "WARNING: All log messages before absl::InitializeLog() is called are written to STDERR\n",
      "E0000 00:00:1732796545.337107   74533 cuda_dnn.cc:8310] Unable to register cuDNN factory: Attempting to register factory for plugin cuDNN when one has already been registered\n",
      "E0000 00:00:1732796545.342312   74533 cuda_blas.cc:1418] Unable to register cuBLAS factory: Attempting to register factory for plugin cuBLAS when one has already been registered\n",
      "2024-11-28 19:22:25.359883: I tensorflow/core/platform/cpu_feature_guard.cc:210] This TensorFlow binary is optimized to use available CPU instructions in performance-critical operations.\n",
      "To enable the following instructions: AVX2 AVX512F AVX512_VNNI FMA, in other operations, rebuild TensorFlow with the appropriate compiler flags.\n",
      "/usr/lib/python3/dist-packages/paramiko/pkey.py:82: CryptographyDeprecationWarning: TripleDES has been moved to cryptography.hazmat.decrepit.ciphers.algorithms.TripleDES and will be removed from this module in 48.0.0.\n",
      "  \"cipher\": algorithms.TripleDES,\n",
      "/usr/lib/python3/dist-packages/paramiko/transport.py:237: CryptographyDeprecationWarning: Blowfish has been moved to cryptography.hazmat.decrepit.ciphers.algorithms.Blowfish and will be removed from this module in 45.0.0.\n",
      "  \"class\": algorithms.Blowfish,\n",
      "/usr/lib/python3/dist-packages/paramiko/transport.py:261: CryptographyDeprecationWarning: TripleDES has been moved to cryptography.hazmat.decrepit.ciphers.algorithms.TripleDES and will be removed from this module in 48.0.0.\n",
      "  \"class\": algorithms.TripleDES,\n"
     ]
    }
   ],
   "source": [
    "import text_apps.Processing as Processing"
   ]
  },
  {
   "cell_type": "code",
   "execution_count": 2,
   "metadata": {},
   "outputs": [],
   "source": [
    "contents = '''Honda Winner 150 là mẫu xe côn tay 150 phân khối được Honda Việt Nam lắp ráp, mẫu xe này sẽ cạnh tranh với đối thủ Yamaha Exciter và hướng tới đối tượng là các khách hàng trẻ tuổi.Xe có thiết kế khoẻ khoắn, trẻ trung, nhiều đường nét sắc cạnh. Xe được lắp ráp tại nhà máy Honda Vĩnh Phúc.Về thiết kế chung, điểm nhấn tại phía đầu xe là cụm đèn pha LED với thiết kế choá kiểu truyền thống của Honda, Honda Winner 150 được trang bị đồng hồ analog kết hợp LCD, phía trước được trang bị phuộc đôi, giảm chấn thủy lực. Phần đuôi xe được các kỹ sư của hãng xe Nhật thiết kế gọn gàng, phía đuôi vểnh cao tạo dáng, bên dưới là giảm sóc đơn - monoshock. Ống xả được ốp tấm chống bỏng carbon thể thao. Cả hai bánh đều được trang bị phanh đĩa, bộ lốp không săm với kích cỡ lần lượt 90/80 trước và 120/70 sau.Honda Winner 150 có trọng lượng 122 kg, kích thước dài, rộng, cao lần lượt là 2.025 x 725 x 1.102 mm, trục cơ sở 1.276 mm, độ cao yên xe 780 mm, khoảng cách gầm so với mặt đất 167 mm.Xe được trang bị động cơ phun xăng điện tử PGM - FI, 150cc, DOHC, 4 kỳ, xi-lanh đơn, làm mát bằng dung dịch. Khi kết hợp với hộp số 6 cấp chiếc xe có thể đạt công suất 15,6 mã lực tại 9.000 vòng/phút và mô-men xoắn cực đại 13,5 Nm tại 6.500 vòng/phút. Động cơ của xe đạt tiêu chuẩn khí thải EURO3.Bình xăng của xe có dung tích 4,5 lít, đủ cho một chuyến đi dài.Theo Honda Việt Nam, Honda Winner 150 bản Thể thao với 2 màu Đỏ đen và Trắng đen sẽ có giá bán là 45.490.000VNĐ, bản Cao cấp với màu Xanh mờ và Đen mờ có giá 45.990.000VNĐ.Xe được bán ra từ ngày 08/06/2016, được bảo hành 3 năm hoặc 30.000 km cùng 6 lần kiểm tra định kỳ miễn phí. Hãng xe Nhật kỳ vọng đạt doanh số bán khoảng 100.000 xe mỗi năm cho mẫu xe mới này.'''\n"
   ]
  },
  {
   "cell_type": "code",
   "execution_count": 3,
   "metadata": {},
   "outputs": [
    {
     "data": {
      "text/plain": [
       "['Honda Winner 150 là mẫu xe côn tay 150 phân khối được Honda Việt Nam lắp ráp, mẫu xe này sẽ cạnh tranh với đối thủ Yamaha Exciter và hướng tới đối tượng là các khách hàng trẻ tuổi.Xe có thiết kế khoẻ khoắn, trẻ trung, nhiều đường nét sắc cạnh.',\n",
       " 'Xe được lắp ráp tại nhà máy Honda Vĩnh Phúc.Về thiết kế chung, điểm nhấn tại phía đầu xe là cụm đèn pha LED với thiết kế choá kiểu truyền thống của Honda, Honda Winner 150 được trang bị đồng hồ analog kết hợp LCD, phía trước được trang bị phuộc đôi, giảm chấn thủy lực.',\n",
       " 'Phần đuôi xe được các kỹ sư của hãng xe Nhật thiết kế gọn gàng, phía đuôi vểnh cao tạo dáng, bên dưới là giảm sóc đơn - monoshock.',\n",
       " 'Ống xả được ốp tấm chống bỏng carbon thể thao.',\n",
       " 'Cả hai bánh đều được trang bị phanh đĩa, bộ lốp không săm với kích cỡ lần lượt 90/80 trước và 120/70 sau.Honda Winner 150 có trọng lượng 122 kg, kích thước dài, rộng, cao lần lượt là 2.025 x 725 x 1.102 mm, trục cơ sở 1.276 mm, độ cao yên xe 780 mm, khoảng cách gầm so với mặt đất 167 mm.Xe được trang bị động cơ phun xăng điện tử PGM - FI, 150cc, DOHC, 4 kỳ, xi-lanh đơn, làm mát bằng dung dịch.',\n",
       " 'Khi kết hợp với hộp số 6 cấp chiếc xe có thể đạt công suất 15,6 mã lực tại 9.000 vòng/phút và mô-men xoắn cực đại 13,5 Nm tại 6.500 vòng/phút.',\n",
       " 'Động cơ của xe đạt tiêu chuẩn khí thải EURO3.Bình xăng của xe có dung tích 4,5 lít, đủ cho một chuyến đi dài.Theo Honda Việt Nam, Honda Winner 150 bản Thể thao với 2 màu Đỏ đen và Trắng đen sẽ có giá bán là 45.490.000VNĐ, bản Cao cấp với màu Xanh mờ và Đen mờ có giá 45.990.000VNĐ.Xe được bán ra từ ngày 08/06/2016, được bảo hành 3 năm hoặc 30.000 km cùng 6 lần kiểm tra định kỳ miễn phí.',\n",
       " 'Hãng xe Nhật kỳ vọng đạt doanh số bán khoảng 100.000 xe mỗi năm cho mẫu xe mới này.']"
      ]
     },
     "execution_count": 3,
     "metadata": {},
     "output_type": "execute_result"
    }
   ],
   "source": [
    "Processing.sentences_split(contents)"
   ]
  },
  {
   "cell_type": "code",
   "execution_count": 4,
   "metadata": {},
   "outputs": [],
   "source": [
    "stop_words = Processing.get_stopwords(\"/home/phu/TextSummary/stopwords.txt\")"
   ]
  },
  {
   "cell_type": "code",
   "execution_count": 5,
   "metadata": {},
   "outputs": [],
   "source": [
    "text_processing =  Processing.process_text(contents,stop_words)"
   ]
  },
  {
   "cell_type": "code",
   "execution_count": 6,
   "metadata": {},
   "outputs": [
    {
     "name": "stdout",
     "output_type": "stream",
     "text": [
      "Độ dài trước khi proccess 1794\n",
      "Độ dài sau khi xóa proccess 1511\n"
     ]
    }
   ],
   "source": [
    "print(\"Độ dài trước khi proccess\",len(contents))\n",
    "print(\"Độ dài sau khi xóa proccess\",len(text_processing))"
   ]
  },
  {
   "cell_type": "code",
   "execution_count": 9,
   "metadata": {},
   "outputs": [
    {
     "name": "stdout",
     "output_type": "stream",
     "text": [
      "honda winner 150 mẫu xe côn 150 phân khối honda việt nam lắp ráp, mẫu xe này cạnh tranh đối thủ yamaha exciter và hướng đối tượng là các hàng trẻ tuổi.xe có thiết kế khoẻ khoắn, trẻ trung, nhiều đường nét sắc cạnh. xe được lắp ráp tại nhà máy honda vĩnh phúc.về thiết kế chung, nhấn tại phía đầu xe cụm đèn pha led thiết kế choá kiểu truyền thống honda, honda winner 150 được trang bị đồng hồ analog kết hợp lcd, phía trước được trang bị phuộc đôi, chấn thủy lực. đuôi xe được các kỹ sư của hãng xe nhật thiết kế gọn gàng, phía đuôi vểnh dáng, dưới là giảm sóc đơn - monoshock. ống xả được ốp tấm chống bỏng carbon thể thao. cả hai bánh đều được trang bị phanh đĩa, bộ lốp săm với kích cỡ lần lượt 90/80 120/70 sau.honda winner 150 trọng 122 kg, kích thước dài, rộng, lượt 2.025 x 725 x 1.102 mm, trục sở 1.276 mm, độ yên xe 780 mm, gầm mặt đất 167 mm.xe trang động phun xăng điện tử pgm - fi, 150cc, dohc, 4 kỳ, xi-lanh đơn, mát dung dịch. kết hợp hộp 6 xe có thể công suất 15,6 mã lực 9.000 vòng/phút mô-men xoắn cực đại 13,5 nm 6.500 vòng/phút. động của xe tiêu chuẩn khí thải euro3.bình xăng của xe có dung tích 4,5 lít, đủ một chuyến đi dài.theo honda việt nam, honda winner 150 thể thao với 2 màu đỏ đen trắng đen giá 45.490.000vnđ, với màu xanh mờ đen mờ có giá 45.990.000vnđ.xe được bán từ 08/06/2016, bảo hành 3 30.000 km 6 kiểm tra định kỳ miễn phí. hãng xe nhật kỳ vọng đạt doanh bán 100.000 xe mẫu xe mới này.\n"
     ]
    }
   ],
   "source": [
    "print(text_processing)"
   ]
  },
  {
   "cell_type": "code",
   "execution_count": 8,
   "metadata": {},
   "outputs": [
    {
     "data": {
      "text/plain": [
       "4"
      ]
     },
     "execution_count": 8,
     "metadata": {},
     "output_type": "execute_result"
    }
   ],
   "source": [
    "len(sentences)"
   ]
  },
  {
   "cell_type": "code",
   "execution_count": 9,
   "metadata": {},
   "outputs": [
    {
     "name": "stdout",
     "output_type": "stream",
     "text": [
      "(4, 100)\n",
      "4\n"
     ]
    }
   ],
   "source": [
    "import numpy as np \n",
    "X = Processing.sentencesVector(sentences,stop_words)\n",
    "print(np.shape(X))\n",
    "print(len(X))"
   ]
  },
  {
   "cell_type": "code",
   "execution_count": 10,
   "metadata": {},
   "outputs": [],
   "source": [
    "kmeans = Processing.sentences_clusters(X)"
   ]
  },
  {
   "cell_type": "code",
   "execution_count": 13,
   "metadata": {},
   "outputs": [
    {
     "ename": "AttributeError",
     "evalue": "module 'Processing' has no attribute 'buildSummary'",
     "output_type": "error",
     "traceback": [
      "\u001b[0;31m---------------------------------------------------------------------------\u001b[0m",
      "\u001b[0;31mAttributeError\u001b[0m                            Traceback (most recent call last)",
      "Cell \u001b[0;32mIn[13], line 1\u001b[0m\n\u001b[0;32m----> 1\u001b[0m summary \u001b[38;5;241m=\u001b[39m \u001b[43mProcessing\u001b[49m\u001b[38;5;241;43m.\u001b[39;49m\u001b[43mbuildSummary\u001b[49m(kmeans,X,sentences)\n\u001b[1;32m      2\u001b[0m \u001b[38;5;28mprint\u001b[39m(summary)\n\u001b[1;32m      3\u001b[0m \u001b[38;5;28mprint\u001b[39m(\u001b[38;5;28mlen\u001b[39m(summary))\n",
      "\u001b[0;31mAttributeError\u001b[0m: module 'Processing' has no attribute 'buildSummary'"
     ]
    }
   ],
   "source": [
    "summary = Processing.buildSummary(kmeans,X,sentences)\n",
    "print(summary)\n",
    "print(len(summary))"
   ]
  },
  {
   "cell_type": "code",
   "execution_count": 14,
   "metadata": {},
   "outputs": [
    {
     "ename": "NameError",
     "evalue": "name 'summary' is not defined",
     "output_type": "error",
     "traceback": [
      "\u001b[0;31m---------------------------------------------------------------------------\u001b[0m",
      "\u001b[0;31mNameError\u001b[0m                                 Traceback (most recent call last)",
      "Cell \u001b[0;32mIn[14], line 2\u001b[0m\n\u001b[1;32m      1\u001b[0m original_text \u001b[38;5;241m=\u001b[39m \u001b[38;5;124m\"\u001b[39m\u001b[38;5;124m \u001b[39m\u001b[38;5;124m\"\u001b[39m\u001b[38;5;241m.\u001b[39mjoin(sentences)\n\u001b[0;32m----> 2\u001b[0m summary_text \u001b[38;5;241m=\u001b[39m \u001b[43msummary\u001b[49m\n\u001b[1;32m      4\u001b[0m similarity_score \u001b[38;5;241m=\u001b[39m Processing\u001b[38;5;241m.\u001b[39mcompute_similarity(original_text, summary_text)\n\u001b[1;32m      6\u001b[0m \u001b[38;5;28mprint\u001b[39m(\u001b[38;5;124mf\u001b[39m\u001b[38;5;124m\"\u001b[39m\u001b[38;5;124mĐộ tương đồng giữa văn bản gốc và bản tóm tắt là: \u001b[39m\u001b[38;5;132;01m{\u001b[39;00msimilarity_score\u001b[38;5;132;01m}\u001b[39;00m\u001b[38;5;124m\"\u001b[39m)\n",
      "\u001b[0;31mNameError\u001b[0m: name 'summary' is not defined"
     ]
    }
   ],
   "source": [
    "\n",
    "original_text = \" \".join(sentences)\n",
    "summary_text = summary\n",
    "\n",
    "similarity_score = Processing.compute_similarity(original_text, summary_text)\n",
    "\n",
    "print(f\"Độ tương đồng giữa văn bản gốc và bản tóm tắt là: {similarity_score}\")\n",
    "\n",
    "with open('word2vec.txt','w',encoding = 'utf-8') as f : \n",
    "    f.write(summary)\n"
   ]
  },
  {
   "cell_type": "code",
   "execution_count": 13,
   "metadata": {},
   "outputs": [
    {
     "name": "stdout",
     "output_type": "stream",
     "text": [
      "(100,)\n"
     ]
    }
   ],
   "source": [
    "print(X[0].shape)"
   ]
  },
  {
   "cell_type": "code",
   "execution_count": 14,
   "metadata": {},
   "outputs": [
    {
     "name": "stderr",
     "output_type": "stream",
     "text": [
      "2024-11-10 12:52:04.388480: I tensorflow/core/util/port.cc:153] oneDNN custom operations are on. You may see slightly different numerical results due to floating-point round-off errors from different computation orders. To turn them off, set the environment variable `TF_ENABLE_ONEDNN_OPTS=0`.\n",
      "2024-11-10 12:52:04.401289: E external/local_xla/xla/stream_executor/cuda/cuda_fft.cc:485] Unable to register cuFFT factory: Attempting to register factory for plugin cuFFT when one has already been registered\n",
      "2024-11-10 12:52:04.419703: E external/local_xla/xla/stream_executor/cuda/cuda_dnn.cc:8454] Unable to register cuDNN factory: Attempting to register factory for plugin cuDNN when one has already been registered\n",
      "2024-11-10 12:52:04.423577: E external/local_xla/xla/stream_executor/cuda/cuda_blas.cc:1452] Unable to register cuBLAS factory: Attempting to register factory for plugin cuBLAS when one has already been registered\n",
      "2024-11-10 12:52:04.433759: I tensorflow/core/platform/cpu_feature_guard.cc:210] This TensorFlow binary is optimized to use available CPU instructions in performance-critical operations.\n",
      "To enable the following instructions: AVX2 AVX512F AVX512_VNNI FMA, in other operations, rebuild TensorFlow with the appropriate compiler flags.\n",
      "2024-11-10 12:52:05.140765: W tensorflow/compiler/tf2tensorrt/utils/py_utils.cc:38] TF-TRT Warning: Could not find TensorRT\n"
     ]
    },
    {
     "name": "stdout",
     "output_type": "stream",
     "text": [
      "Epoch 1/50\n"
     ]
    },
    {
     "name": "stderr",
     "output_type": "stream",
     "text": [
      "/home/phu/.local/lib/python3.10/site-packages/keras/src/layers/rnn/bidirectional.py:107: UserWarning: Do not pass an `input_shape`/`input_dim` argument to a layer. When using Sequential models, prefer using an `Input(shape)` object as the first layer in the model instead.\n",
      "  super().__init__(**kwargs)\n"
     ]
    },
    {
     "name": "stdout",
     "output_type": "stream",
     "text": [
      "\u001b[1m1/1\u001b[0m \u001b[32m━━━━━━━━━━━━━━━━━━━━\u001b[0m\u001b[37m\u001b[0m \u001b[1m3s\u001b[0m 3s/step - loss: 10.3747\n",
      "Epoch 2/50\n",
      "\u001b[1m1/1\u001b[0m \u001b[32m━━━━━━━━━━━━━━━━━━━━\u001b[0m\u001b[37m\u001b[0m \u001b[1m0s\u001b[0m 50ms/step - loss: 10.3491\n",
      "Epoch 3/50\n",
      "\u001b[1m1/1\u001b[0m \u001b[32m━━━━━━━━━━━━━━━━━━━━\u001b[0m\u001b[37m\u001b[0m \u001b[1m0s\u001b[0m 46ms/step - loss: 10.3224\n",
      "Epoch 4/50\n",
      "\u001b[1m1/1\u001b[0m \u001b[32m━━━━━━━━━━━━━━━━━━━━\u001b[0m\u001b[37m\u001b[0m \u001b[1m0s\u001b[0m 44ms/step - loss: 10.2914\n",
      "Epoch 5/50\n",
      "\u001b[1m1/1\u001b[0m \u001b[32m━━━━━━━━━━━━━━━━━━━━\u001b[0m\u001b[37m\u001b[0m \u001b[1m0s\u001b[0m 46ms/step - loss: 10.2605\n",
      "Epoch 6/50\n",
      "\u001b[1m1/1\u001b[0m \u001b[32m━━━━━━━━━━━━━━━━━━━━\u001b[0m\u001b[37m\u001b[0m \u001b[1m0s\u001b[0m 46ms/step - loss: 10.2278\n",
      "Epoch 7/50\n",
      "\u001b[1m1/1\u001b[0m \u001b[32m━━━━━━━━━━━━━━━━━━━━\u001b[0m\u001b[37m\u001b[0m \u001b[1m0s\u001b[0m 50ms/step - loss: 10.1870\n",
      "Epoch 8/50\n",
      "\u001b[1m1/1\u001b[0m \u001b[32m━━━━━━━━━━━━━━━━━━━━\u001b[0m\u001b[37m\u001b[0m \u001b[1m0s\u001b[0m 46ms/step - loss: 10.1428\n",
      "Epoch 9/50\n",
      "\u001b[1m1/1\u001b[0m \u001b[32m━━━━━━━━━━━━━━━━━━━━\u001b[0m\u001b[37m\u001b[0m \u001b[1m0s\u001b[0m 46ms/step - loss: 10.0934\n",
      "Epoch 10/50\n",
      "\u001b[1m1/1\u001b[0m \u001b[32m━━━━━━━━━━━━━━━━━━━━\u001b[0m\u001b[37m\u001b[0m \u001b[1m0s\u001b[0m 44ms/step - loss: 10.0381\n",
      "Epoch 11/50\n",
      "\u001b[1m1/1\u001b[0m \u001b[32m━━━━━━━━━━━━━━━━━━━━\u001b[0m\u001b[37m\u001b[0m \u001b[1m0s\u001b[0m 48ms/step - loss: 9.9709\n",
      "Epoch 12/50\n",
      "\u001b[1m1/1\u001b[0m \u001b[32m━━━━━━━━━━━━━━━━━━━━\u001b[0m\u001b[37m\u001b[0m \u001b[1m0s\u001b[0m 53ms/step - loss: 9.8947\n",
      "Epoch 13/50\n",
      "\u001b[1m1/1\u001b[0m \u001b[32m━━━━━━━━━━━━━━━━━━━━\u001b[0m\u001b[37m\u001b[0m \u001b[1m0s\u001b[0m 45ms/step - loss: 9.8101\n",
      "Epoch 14/50\n",
      "\u001b[1m1/1\u001b[0m \u001b[32m━━━━━━━━━━━━━━━━━━━━\u001b[0m\u001b[37m\u001b[0m \u001b[1m0s\u001b[0m 57ms/step - loss: 9.7203\n",
      "Epoch 15/50\n",
      "\u001b[1m1/1\u001b[0m \u001b[32m━━━━━━━━━━━━━━━━━━━━\u001b[0m\u001b[37m\u001b[0m \u001b[1m0s\u001b[0m 47ms/step - loss: 9.6056\n",
      "Epoch 16/50\n",
      "\u001b[1m1/1\u001b[0m \u001b[32m━━━━━━━━━━━━━━━━━━━━\u001b[0m\u001b[37m\u001b[0m \u001b[1m0s\u001b[0m 50ms/step - loss: 9.4994\n",
      "Epoch 17/50\n",
      "\u001b[1m1/1\u001b[0m \u001b[32m━━━━━━━━━━━━━━━━━━━━\u001b[0m\u001b[37m\u001b[0m \u001b[1m0s\u001b[0m 53ms/step - loss: 9.3693\n",
      "Epoch 18/50\n",
      "\u001b[1m1/1\u001b[0m \u001b[32m━━━━━━━━━━━━━━━━━━━━\u001b[0m\u001b[37m\u001b[0m \u001b[1m0s\u001b[0m 46ms/step - loss: 9.2343\n",
      "Epoch 19/50\n",
      "\u001b[1m1/1\u001b[0m \u001b[32m━━━━━━━━━━━━━━━━━━━━\u001b[0m\u001b[37m\u001b[0m \u001b[1m0s\u001b[0m 49ms/step - loss: 9.1117\n",
      "Epoch 20/50\n",
      "\u001b[1m1/1\u001b[0m \u001b[32m━━━━━━━━━━━━━━━━━━━━\u001b[0m\u001b[37m\u001b[0m \u001b[1m0s\u001b[0m 91ms/step - loss: 8.9866\n",
      "Epoch 21/50\n",
      "\u001b[1m1/1\u001b[0m \u001b[32m━━━━━━━━━━━━━━━━━━━━\u001b[0m\u001b[37m\u001b[0m \u001b[1m0s\u001b[0m 100ms/step - loss: 8.8525\n",
      "Epoch 22/50\n",
      "\u001b[1m1/1\u001b[0m \u001b[32m━━━━━━━━━━━━━━━━━━━━\u001b[0m\u001b[37m\u001b[0m \u001b[1m0s\u001b[0m 48ms/step - loss: 8.7295\n",
      "Epoch 23/50\n",
      "\u001b[1m1/1\u001b[0m \u001b[32m━━━━━━━━━━━━━━━━━━━━\u001b[0m\u001b[37m\u001b[0m \u001b[1m0s\u001b[0m 47ms/step - loss: 8.5889\n",
      "Epoch 24/50\n",
      "\u001b[1m1/1\u001b[0m \u001b[32m━━━━━━━━━━━━━━━━━━━━\u001b[0m\u001b[37m\u001b[0m \u001b[1m0s\u001b[0m 45ms/step - loss: 8.4497\n",
      "Epoch 25/50\n",
      "\u001b[1m1/1\u001b[0m \u001b[32m━━━━━━━━━━━━━━━━━━━━\u001b[0m\u001b[37m\u001b[0m \u001b[1m0s\u001b[0m 45ms/step - loss: 8.2981\n",
      "Epoch 26/50\n",
      "\u001b[1m1/1\u001b[0m \u001b[32m━━━━━━━━━━━━━━━━━━━━\u001b[0m\u001b[37m\u001b[0m \u001b[1m0s\u001b[0m 44ms/step - loss: 8.1563\n",
      "Epoch 27/50\n",
      "\u001b[1m1/1\u001b[0m \u001b[32m━━━━━━━━━━━━━━━━━━━━\u001b[0m\u001b[37m\u001b[0m \u001b[1m0s\u001b[0m 43ms/step - loss: 8.0182\n",
      "Epoch 28/50\n",
      "\u001b[1m1/1\u001b[0m \u001b[32m━━━━━━━━━━━━━━━━━━━━\u001b[0m\u001b[37m\u001b[0m \u001b[1m0s\u001b[0m 45ms/step - loss: 7.9031\n",
      "Epoch 29/50\n",
      "\u001b[1m1/1\u001b[0m \u001b[32m━━━━━━━━━━━━━━━━━━━━\u001b[0m\u001b[37m\u001b[0m \u001b[1m0s\u001b[0m 44ms/step - loss: 7.7658\n",
      "Epoch 30/50\n",
      "\u001b[1m1/1\u001b[0m \u001b[32m━━━━━━━━━━━━━━━━━━━━\u001b[0m\u001b[37m\u001b[0m \u001b[1m0s\u001b[0m 43ms/step - loss: 7.5948\n",
      "Epoch 31/50\n",
      "\u001b[1m1/1\u001b[0m \u001b[32m━━━━━━━━━━━━━━━━━━━━\u001b[0m\u001b[37m\u001b[0m \u001b[1m0s\u001b[0m 42ms/step - loss: 7.4505\n",
      "Epoch 32/50\n",
      "\u001b[1m1/1\u001b[0m \u001b[32m━━━━━━━━━━━━━━━━━━━━\u001b[0m\u001b[37m\u001b[0m \u001b[1m0s\u001b[0m 44ms/step - loss: 7.3162\n",
      "Epoch 33/50\n",
      "\u001b[1m1/1\u001b[0m \u001b[32m━━━━━━━━━━━━━━━━━━━━\u001b[0m\u001b[37m\u001b[0m \u001b[1m0s\u001b[0m 43ms/step - loss: 7.1913\n",
      "Epoch 34/50\n",
      "\u001b[1m1/1\u001b[0m \u001b[32m━━━━━━━━━━━━━━━━━━━━\u001b[0m\u001b[37m\u001b[0m \u001b[1m0s\u001b[0m 45ms/step - loss: 7.0463\n",
      "Epoch 35/50\n",
      "\u001b[1m1/1\u001b[0m \u001b[32m━━━━━━━━━━━━━━━━━━━━\u001b[0m\u001b[37m\u001b[0m \u001b[1m0s\u001b[0m 44ms/step - loss: 6.9262\n",
      "Epoch 36/50\n",
      "\u001b[1m1/1\u001b[0m \u001b[32m━━━━━━━━━━━━━━━━━━━━\u001b[0m\u001b[37m\u001b[0m \u001b[1m0s\u001b[0m 43ms/step - loss: 6.8112\n",
      "Epoch 37/50\n",
      "\u001b[1m1/1\u001b[0m \u001b[32m━━━━━━━━━━━━━━━━━━━━\u001b[0m\u001b[37m\u001b[0m \u001b[1m0s\u001b[0m 43ms/step - loss: 6.6699\n",
      "Epoch 38/50\n",
      "\u001b[1m1/1\u001b[0m \u001b[32m━━━━━━━━━━━━━━━━━━━━\u001b[0m\u001b[37m\u001b[0m \u001b[1m0s\u001b[0m 44ms/step - loss: 6.5572\n",
      "Epoch 39/50\n",
      "\u001b[1m1/1\u001b[0m \u001b[32m━━━━━━━━━━━━━━━━━━━━\u001b[0m\u001b[37m\u001b[0m \u001b[1m0s\u001b[0m 44ms/step - loss: 6.4331\n",
      "Epoch 40/50\n",
      "\u001b[1m1/1\u001b[0m \u001b[32m━━━━━━━━━━━━━━━━━━━━\u001b[0m\u001b[37m\u001b[0m \u001b[1m0s\u001b[0m 87ms/step - loss: 6.3366\n",
      "Epoch 41/50\n",
      "\u001b[1m1/1\u001b[0m \u001b[32m━━━━━━━━━━━━━━━━━━━━\u001b[0m\u001b[37m\u001b[0m \u001b[1m0s\u001b[0m 45ms/step - loss: 6.2238\n",
      "Epoch 42/50\n",
      "\u001b[1m1/1\u001b[0m \u001b[32m━━━━━━━━━━━━━━━━━━━━\u001b[0m\u001b[37m\u001b[0m \u001b[1m0s\u001b[0m 44ms/step - loss: 6.1108\n",
      "Epoch 43/50\n",
      "\u001b[1m1/1\u001b[0m \u001b[32m━━━━━━━━━━━━━━━━━━━━\u001b[0m\u001b[37m\u001b[0m \u001b[1m0s\u001b[0m 42ms/step - loss: 5.9909\n",
      "Epoch 44/50\n",
      "\u001b[1m1/1\u001b[0m \u001b[32m━━━━━━━━━━━━━━━━━━━━\u001b[0m\u001b[37m\u001b[0m \u001b[1m0s\u001b[0m 46ms/step - loss: 5.8688\n",
      "Epoch 45/50\n",
      "\u001b[1m1/1\u001b[0m \u001b[32m━━━━━━━━━━━━━━━━━━━━\u001b[0m\u001b[37m\u001b[0m \u001b[1m0s\u001b[0m 43ms/step - loss: 5.7588\n",
      "Epoch 46/50\n",
      "\u001b[1m1/1\u001b[0m \u001b[32m━━━━━━━━━━━━━━━━━━━━\u001b[0m\u001b[37m\u001b[0m \u001b[1m0s\u001b[0m 43ms/step - loss: 5.6636\n",
      "Epoch 47/50\n",
      "\u001b[1m1/1\u001b[0m \u001b[32m━━━━━━━━━━━━━━━━━━━━\u001b[0m\u001b[37m\u001b[0m \u001b[1m0s\u001b[0m 43ms/step - loss: 5.5577\n",
      "Epoch 48/50\n",
      "\u001b[1m1/1\u001b[0m \u001b[32m━━━━━━━━━━━━━━━━━━━━\u001b[0m\u001b[37m\u001b[0m \u001b[1m0s\u001b[0m 51ms/step - loss: 5.3960\n",
      "Epoch 49/50\n",
      "\u001b[1m1/1\u001b[0m \u001b[32m━━━━━━━━━━━━━━━━━━━━\u001b[0m\u001b[37m\u001b[0m \u001b[1m0s\u001b[0m 45ms/step - loss: 5.3397\n",
      "Epoch 50/50\n",
      "\u001b[1m1/1\u001b[0m \u001b[32m━━━━━━━━━━━━━━━━━━━━\u001b[0m\u001b[37m\u001b[0m \u001b[1m0s\u001b[0m 42ms/step - loss: 5.1681\n",
      "\u001b[1m1/1\u001b[0m \u001b[32m━━━━━━━━━━━━━━━━━━━━\u001b[0m\u001b[37m\u001b[0m \u001b[1m0s\u001b[0m 236ms/step\n",
      "\u001b[1m1/1\u001b[0m \u001b[32m━━━━━━━━━━━━━━━━━━━━\u001b[0m\u001b[37m\u001b[0m \u001b[1m0s\u001b[0m 20ms/step\n",
      "\u001b[1m1/1\u001b[0m \u001b[32m━━━━━━━━━━━━━━━━━━━━\u001b[0m\u001b[37m\u001b[0m \u001b[1m0s\u001b[0m 20ms/step\n",
      "\u001b[1m1/1\u001b[0m \u001b[32m━━━━━━━━━━━━━━━━━━━━\u001b[0m\u001b[37m\u001b[0m \u001b[1m0s\u001b[0m 20ms/step\n",
      "\u001b[1m1/1\u001b[0m \u001b[32m━━━━━━━━━━━━━━━━━━━━\u001b[0m\u001b[37m\u001b[0m \u001b[1m0s\u001b[0m 19ms/step\n",
      "\u001b[1m1/1\u001b[0m \u001b[32m━━━━━━━━━━━━━━━━━━━━\u001b[0m\u001b[37m\u001b[0m \u001b[1m0s\u001b[0m 19ms/step\n",
      "\u001b[1m1/1\u001b[0m \u001b[32m━━━━━━━━━━━━━━━━━━━━\u001b[0m\u001b[37m\u001b[0m \u001b[1m0s\u001b[0m 19ms/step\n",
      "\u001b[1m1/1\u001b[0m \u001b[32m━━━━━━━━━━━━━━━━━━━━\u001b[0m\u001b[37m\u001b[0m \u001b[1m0s\u001b[0m 21ms/step\n",
      "\u001b[1m1/1\u001b[0m \u001b[32m━━━━━━━━━━━━━━━━━━━━\u001b[0m\u001b[37m\u001b[0m \u001b[1m0s\u001b[0m 20ms/step\n",
      "\u001b[1m1/1\u001b[0m \u001b[32m━━━━━━━━━━━━━━━━━━━━\u001b[0m\u001b[37m\u001b[0m \u001b[1m0s\u001b[0m 19ms/step\n",
      "\u001b[1m1/1\u001b[0m \u001b[32m━━━━━━━━━━━━━━━━━━━━\u001b[0m\u001b[37m\u001b[0m \u001b[1m0s\u001b[0m 19ms/step\n",
      "\u001b[1m1/1\u001b[0m \u001b[32m━━━━━━━━━━━━━━━━━━━━\u001b[0m\u001b[37m\u001b[0m \u001b[1m0s\u001b[0m 19ms/step\n",
      "\u001b[1m1/1\u001b[0m \u001b[32m━━━━━━━━━━━━━━━━━━━━\u001b[0m\u001b[37m\u001b[0m \u001b[1m0s\u001b[0m 19ms/step\n",
      "\u001b[1m1/1\u001b[0m \u001b[32m━━━━━━━━━━━━━━━━━━━━\u001b[0m\u001b[37m\u001b[0m \u001b[1m0s\u001b[0m 19ms/step\n",
      "\u001b[1m1/1\u001b[0m \u001b[32m━━━━━━━━━━━━━━━━━━━━\u001b[0m\u001b[37m\u001b[0m \u001b[1m0s\u001b[0m 19ms/step\n",
      "Summary: Đối với các doanh nghiệp sản xuất, kinh doanh hàng hóa, cung ứng dịch vụ chịu thuế VAT thuế suất 10% sẽ được hưởng lợi khi chính sách được ban hành. Việc giảm thuế VAT sẽ góp phần làm giảm chi phí sản xuất, hạ giá thành sản phẩm, từ đó giúp doanh nghiệp tăng khả năng phục hồi và mở rộng sản xuất kinh doanh. Thời gian đề xuất áp dụng, theo tờ trình, là từ ngày 1/7 đến hết 31/12 năm nay. Chính phủ đề xuất tiếp tục thực hiện chính sách giảm thuế VAT từ 10% còn 8%, trừ một số nhóm hàng hóa, dịch vụ như ngân hàng, bảo hiểm, kinh doanh bất động sản…. Bộ trưởng Hồ Đức Phớc nhấn mạnh, thực hiện theo phương án này nhằm đảm bảo đúng mục tiêu kích cầu tiêu dùng, phù hợp với bối cảnh kinh tế hiện nay, qua đó thúc đẩy hoạt động sản xuất kinh doanh sớm phục hồi và phát triển để đóng góp trở lại cho ngân sách Nhà nước cũng như nền kinh tế.. .\n",
      "Summary length: 839\n"
     ]
    }
   ],
   "source": [
    "from sklearn.metrics.pairwise import cosine_similarity\n",
    "import numpy as np\n",
    "import nltk\n",
    "from tensorflow.keras.models import Sequential\n",
    "from tensorflow.keras.layers import LSTM, Dense, Bidirectional, Dropout\n",
    "from sklearn.preprocessing import normalize\n",
    "\n",
    "# Chuẩn bị dữ liệu đầu vào\n",
    "X = np.array(X)\n",
    "X = np.reshape(X, (X.shape[0], X.shape[1], 1))  # Reshape thành (số lượng mẫu, độ dài câu, 1)\n",
    "\n",
    "# Bước 3: Xây dựng mô hình LSTM tối ưu hơn\n",
    "model = Sequential()\n",
    "model.add(Bidirectional(LSTM(64, return_sequences=True), input_shape=(X.shape[1], 1)))  # Bidirectional LSTM\n",
    "model.add(Dropout(0.2))  # Thêm lớp dropout để tránh overfitting\n",
    "model.add(LSTM(32))  # LSTM thứ 2\n",
    "model.add(Dense(50, activation='relu'))  # Sử dụng số lượng nút ít hơn\n",
    "model.add(Dense(X.shape[1]))  # Output có chiều bằng vector biểu diễn câu\n",
    "\n",
    "# Compile mô hình\n",
    "model.compile(loss='mse', optimizer='adam')\n",
    "\n",
    "# Huấn luyện mô hình\n",
    "model.fit(X, X, epochs=50, batch_size=32)  # Giảm số epoch và kích thước batch để tăng tốc độ huấn luyện\n",
    "\n",
    "# Bước 4: Chọn các câu quan trọng dựa vào cosine similarity\n",
    "sentence_representations = []\n",
    "for i in range(X.shape[0]):\n",
    "    sentence_vec = np.reshape(X[i], (1, X.shape[1], 1))\n",
    "    sentence_representation = model.predict(sentence_vec)[0]\n",
    "    sentence_representations.append(sentence_representation)\n",
    "\n",
    "# Tính cosine similarity giữa mỗi câu và tổng thể các câu\n",
    "sentence_representations = np.array(sentence_representations)\n",
    "avg_representation = np.mean(sentence_representations, axis=0)  # Trung bình vector của tất cả câu\n",
    "similarities = cosine_similarity([avg_representation], sentence_representations)[0]\n",
    "\n",
    "# Lọc ra các câu có điểm similarity cao nhất\n",
    "top_n = 5 # Số lượng câu quan trọng cần chọn\n",
    "top_sentence_indices = similarities.argsort()[-top_n:][::-1]  # Chọn top câu có similarity cao nhất\n",
    "\n",
    "# Xây dựng summary từ các câu đã chọn\n",
    "selected_sentences = [sentences[idx] for idx in top_sentence_indices]\n",
    "summary = \" \".join(selected_sentences)\n",
    "\n",
    "print(\"Summary:\", summary)\n",
    "print(\"Summary length:\", len(summary))\n"
   ]
  },
  {
   "cell_type": "code",
   "execution_count": 13,
   "metadata": {},
   "outputs": [
    {
     "name": "stdout",
     "output_type": "stream",
     "text": [
      "Các từ chỉ có một chữ hoặc một từ đơn đã được loại bỏ và lưu vào file filtered_stopwords.txt.\n"
     ]
    }
   ],
   "source": [
    "# Đọc stopwords từ file vào bộ nhớ\n",
    "with open('/home/phu/TextSummary/stopwords.txt', 'r', encoding='utf-8') as file:\n",
    "    stopwords = file.read().splitlines()\n",
    "\n",
    "# Loại bỏ các từ có chỉ 1 từ đơn (bao gồm các từ như \"ai\", \"a\", \"alô\"...)\n",
    "filtered_stopwords = [word for word in stopwords if len(word.split()) > 1]\n",
    "\n",
    "# Ghi các từ đã lọc vào một file mới\n",
    "with open('/home/phu/TextSummary/filtered_stopwords.txt', 'w', encoding='utf-8') as output_file:\n",
    "    for word in filtered_stopwords:\n",
    "        output_file.write(word + '\\n')\n",
    "\n",
    "print(\"Các từ chỉ có một chữ hoặc một từ đơn đã được loại bỏ và lưu vào file filtered_stopwords.txt.\")\n"
   ]
  },
  {
   "cell_type": "code",
   "execution_count": null,
   "metadata": {},
   "outputs": [],
   "source": [
    "from selenium import webdriver\n",
    "from selenium.webdriver.chrome.service import Service\n",
    "from selenium.webdriver.chrome.options import Options\n",
    "from selenium.webdriver.common.by import By\n",
    "from selenium.webdriver.support.ui import WebDriverWait\n",
    "from selenium.webdriver.support import expected_conditions as EC\n",
    "from webdriver_manager.chrome import ChromeDriverManager\n",
    "import time\n",
    "from selenium.webdriver.support.ui import Select\n",
    "\n",
    "def add_product():\n",
    "    options = Options()\n",
    "    options.add_argument(\"--no-sandbox\")\n",
    "    options.add_argument(\"--disable-dev-shm-usage\")\n",
    "    options.add_argument(\"--disable-gpu\")\n",
    "    driver = webdriver.Chrome(service=Service(ChromeDriverManager().install()), options=options)\n",
    "    driver.maximize_window()\n",
    "\n",
    "    driver.get(\"http://localhost/admin/html/product_add.php\")\n",
    "\n",
    "    email_input = driver.find_element(By.ID, \"email\")\n",
    "    email_input.send_keys(\"tannhut2111@gmail.com\")\n",
    "    \n",
    "    password_input = driver.find_element(By.ID, \"password\")\n",
    "    password_input.send_keys(\"12345\")\n",
    "    \n",
    "    sign_in_button = driver.find_element(By.CSS_SELECTOR, \"button[type='submit']\")\n",
    "    sign_in_button.click()\n",
    "\n",
    "    print(\"Đăng nhập thành công!\")\n",
    "\n",
    "    try:\n",
    "        products_menu = driver.find_element(By.XPATH, \"//a[@href='product_list.php?page=1']\")\n",
    "        driver.execute_script(\"arguments[0].scrollIntoView(true);\", products_menu)\n",
    "        WebDriverWait(driver, 10).until(EC.element_to_be_clickable(products_menu))\n",
    "        driver.execute_script(\"arguments[0].click();\", products_menu)\n",
    "\n",
    "        WebDriverWait(driver, 10).until(EC.url_contains(\"product_list.php\"))\n",
    "        time.sleep(2)\n",
    "\n",
    "        add_product_button = driver.find_element(By.XPATH, \"//a[@href='product_add.php' and @style='color: white']\")\n",
    "        driver.execute_script(\"arguments[0].scrollIntoView(true);\", add_product_button)\n",
    "        WebDriverWait(driver, 10).until(EC.element_to_be_clickable(add_product_button))\n",
    "        driver.execute_script(\"arguments[0].click();\", add_product_button)\n",
    "        time.sleep(2)\n",
    "\n",
    "        try:\n",
    "            name_input = driver.find_element(By.ID, \"name\")\n",
    "            name_input.send_keys(\"Nhựt\")\n",
    "        except Exception as e:\n",
    "            print(\"Lỗi khi điền tên sản phẩm:\", e)\n",
    "\n",
    "        try:\n",
    "            brand_select = driver.find_element(By.NAME, \"id_brands\")\n",
    "            select = Select(brand_select)\n",
    "            select.select_by_value(\"96\")\n",
    "        except Exception as e:\n",
    "            print(\"Lỗi khi chọn thương hiệu:\", e)\n",
    "\n",
    "        try:\n",
    "            category_select = driver.find_element(By.NAME, \"id_categories\")\n",
    "            select = Select(category_select)\n",
    "            select.select_by_value(\"2\")\n",
    "        except Exception as e:\n",
    "            print(\"Lỗi khi chọn danh mục:\", e)\n",
    "\n",
    "        try:\n",
    "            image_input = driver.find_element(By.NAME, \"image\")\n",
    "            image_input.send_keys(\"C:/xampp/htdocs/Cake-Sale-Website/admin/uploads/1aba114354.product-big-4.jpg\")\n",
    "        except Exception as e:\n",
    "            print(\"Lỗi khi chọn hình ảnh:\", e)\n",
    "        \n",
    "        try:\n",
    "            buy_price_input = driver.find_element(By.ID, \"buy_price\")\n",
    "            buy_price_input.send_keys(\"100000\")\n",
    "        except Exception as e:\n",
    "            print(\"Lỗi khi điền giá mua:\", e)\n",
    "\n",
    "        try:\n",
    "            sell_price_input = driver.find_element(By.ID, \"sell_price\")\n",
    "            sell_price_input.send_keys(\"120000\")\n",
    "        except Exception as e:\n",
    "            print(\"Lỗi khi điền giá bán:\", e)\n",
    "\n",
    "        try:\n",
    "            quantity_input = driver.find_element(By.ID, \"quantity\")\n",
    "            quantity_input.send_keys(\"100\")\n",
    "        except Exception as e:\n",
    "            print(\"Lỗi khi điền số lượng:\", e)\n",
    "\n",
    "        try:\n",
    "            available_quantity_input = driver.find_element(By.ID, \"avaiable_quantity\")\n",
    "            available_quantity_input.send_keys(\"80\")\n",
    "        except Exception as e:\n",
    "            print(\"Lỗi khi điền số lượng có sẵn:\", e)\n",
    "\n",
    "        try:\n",
    "            description_input = driver.find_element(By.ID, \"description\")\n",
    "            description_input.send_keys(\"Mô tả sản phẩm mới\")\n",
    "        except Exception as e:\n",
    "            print(\"Lỗi khi điền mô tả sản phẩm:\", e)\n",
    "\n",
    "        try:\n",
    "            status_input = driver.find_element(By.NAME, \"status\")\n",
    "            status_input.click()\n",
    "        except Exception as e:\n",
    "            None\n",
    "\n",
    "        try:\n",
    "            submit_button = WebDriverWait(driver, 10).until(\n",
    "                EC.element_to_be_clickable((By.NAME, \"submit\"))\n",
    "            )\n",
    "            driver.execute_script(\"arguments[0].scrollIntoView(true);\", submit_button)\n",
    "            driver.execute_script(\"arguments[0].click();\", submit_button)\n",
    "        except Exception as e:\n",
    "            print(\"Lỗi khi click nút submit:\", e)\n",
    "\n",
    "        WebDriverWait(driver, 10).until(EC.url_contains(\"product_list.php\"))\n",
    "\n",
    "        # Kiểm tra thông báo lỗi \"Tên sản phẩm đã tồn tại\"\n",
    "        try:\n",
    "            error_message = driver.find_element(By.CSS_SELECTOR, \"div.alert.alert-info\")\n",
    "            if \"Tên sản phẩm đã tồn tại\" in error_message.text:\n",
    "                print(\"Tên sản phẩm đã tồn tại, thay đổi tên và thêm lại\")\n",
    "                # Thay đổi tên sản phẩm và thử lại\n",
    "                name_input = driver.find_element(By.ID, \"name\")\n",
    "                name_input.clear()  # Xóa tên cũ\n",
    "                name_input.send_keys(\"Bánh kem mới 2\")  # Cập nhật tên mới\n",
    "                submit_button = driver.find_element(By.NAME, \"submit\")\n",
    "                driver.execute_script(\"arguments[0].scrollIntoView(true);\", submit_button)\n",
    "                driver.execute_script(\"arguments[0].click();\", submit_button)\n",
    "                WebDriverWait(driver, 10).until(EC.url_contains(\"product_list.php\"))\n",
    "                print(\"Sản phẩm đã được thêm thành công với tên mới!\")\n",
    "        except Exception as e:\n",
    "            None\n",
    "        time.sleep(10)\n",
    "    except Exception as e:\n",
    "        print(\"Có lỗi xảy ra:\", e)\n",
    "    \n",
    "    finally:\n",
    "        driver.quit()\n",
    "\n",
    "add_product()"
   ]
  }
 ],
 "metadata": {
  "kernelspec": {
   "display_name": "Python 3",
   "language": "python",
   "name": "python3"
  },
  "language_info": {
   "codemirror_mode": {
    "name": "ipython",
    "version": 3
   },
   "file_extension": ".py",
   "mimetype": "text/x-python",
   "name": "python",
   "nbconvert_exporter": "python",
   "pygments_lexer": "ipython3",
   "version": "3.10.12"
  }
 },
 "nbformat": 4,
 "nbformat_minor": 2
}
